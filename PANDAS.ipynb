{
 "cells": [
  {
   "cell_type": "code",
   "execution_count": 1,
   "id": "d6c54957",
   "metadata": {},
   "outputs": [],
   "source": [
    "import pandas as pd"
   ]
  },
  {
   "cell_type": "code",
   "execution_count": 2,
   "id": "35a39b34",
   "metadata": {},
   "outputs": [],
   "source": [
    "import numpy as np"
   ]
  },
  {
   "cell_type": "code",
   "execution_count": 4,
   "id": "a84724e2",
   "metadata": {},
   "outputs": [
    {
     "data": {
      "text/plain": [
       "0     1.0\n",
       "1     2.0\n",
       "2     3.0\n",
       "3     4.0\n",
       "4     5.0\n",
       "5     6.0\n",
       "6     NaN\n",
       "7     8.0\n",
       "8     9.0\n",
       "9    10.0\n",
       "dtype: float64"
      ]
     },
     "execution_count": 4,
     "metadata": {},
     "output_type": "execute_result"
    }
   ],
   "source": [
    "#to create series\n",
    "#np.nan is null value\n",
    "\n",
    "s=pd.Series([1,2,3,4,5,6,np.nan,8,9,10])\n",
    "s\n",
    "\n"
   ]
  },
  {
   "cell_type": "code",
   "execution_count": 5,
   "id": "4a557f87",
   "metadata": {},
   "outputs": [
    {
     "data": {
      "text/plain": [
       "DatetimeIndex(['2021-09-28', '2021-09-29', '2021-09-30', '2021-10-01',\n",
       "               '2021-10-02', '2021-10-03', '2021-10-04', '2021-10-05',\n",
       "               '2021-10-06', '2021-10-07'],\n",
       "              dtype='datetime64[ns]', freq='D')"
      ]
     },
     "execution_count": 5,
     "metadata": {},
     "output_type": "execute_result"
    }
   ],
   "source": [
    "#to a create dataframe by passing a numpy array with datetime index and label colomns\n",
    "\n",
    "d=pd.date_range(\"20210928\",periods=10)\n",
    "d"
   ]
  },
  {
   "cell_type": "code",
   "execution_count": null,
   "id": "2661d0b4",
   "metadata": {},
   "outputs": [],
   "source": []
  },
  {
   "cell_type": "code",
   "execution_count": 7,
   "id": "8ba55fbb",
   "metadata": {
    "scrolled": true
   },
   "outputs": [
    {
     "data": {
      "text/html": [
       "<div>\n",
       "<style scoped>\n",
       "    .dataframe tbody tr th:only-of-type {\n",
       "        vertical-align: middle;\n",
       "    }\n",
       "\n",
       "    .dataframe tbody tr th {\n",
       "        vertical-align: top;\n",
       "    }\n",
       "\n",
       "    .dataframe thead th {\n",
       "        text-align: right;\n",
       "    }\n",
       "</style>\n",
       "<table border=\"1\" class=\"dataframe\">\n",
       "  <thead>\n",
       "    <tr style=\"text-align: right;\">\n",
       "      <th></th>\n",
       "      <th>A</th>\n",
       "      <th>B</th>\n",
       "      <th>C</th>\n",
       "      <th>D</th>\n",
       "    </tr>\n",
       "  </thead>\n",
       "  <tbody>\n",
       "    <tr>\n",
       "      <th>2021-09-28</th>\n",
       "      <td>1.296194</td>\n",
       "      <td>0.593464</td>\n",
       "      <td>-0.534440</td>\n",
       "      <td>-0.409959</td>\n",
       "    </tr>\n",
       "    <tr>\n",
       "      <th>2021-09-29</th>\n",
       "      <td>-1.491104</td>\n",
       "      <td>-0.434138</td>\n",
       "      <td>-0.854868</td>\n",
       "      <td>0.136571</td>\n",
       "    </tr>\n",
       "    <tr>\n",
       "      <th>2021-09-30</th>\n",
       "      <td>-0.049610</td>\n",
       "      <td>0.787340</td>\n",
       "      <td>0.698990</td>\n",
       "      <td>-0.040902</td>\n",
       "    </tr>\n",
       "    <tr>\n",
       "      <th>2021-10-01</th>\n",
       "      <td>1.138374</td>\n",
       "      <td>-0.225020</td>\n",
       "      <td>-0.432230</td>\n",
       "      <td>0.793667</td>\n",
       "    </tr>\n",
       "    <tr>\n",
       "      <th>2021-10-02</th>\n",
       "      <td>0.066698</td>\n",
       "      <td>-0.386431</td>\n",
       "      <td>0.574115</td>\n",
       "      <td>-0.872801</td>\n",
       "    </tr>\n",
       "    <tr>\n",
       "      <th>2021-10-03</th>\n",
       "      <td>-0.869831</td>\n",
       "      <td>2.075139</td>\n",
       "      <td>-0.327897</td>\n",
       "      <td>-1.649215</td>\n",
       "    </tr>\n",
       "    <tr>\n",
       "      <th>2021-10-04</th>\n",
       "      <td>0.552108</td>\n",
       "      <td>-0.576175</td>\n",
       "      <td>1.400574</td>\n",
       "      <td>-1.322480</td>\n",
       "    </tr>\n",
       "    <tr>\n",
       "      <th>2021-10-05</th>\n",
       "      <td>0.084900</td>\n",
       "      <td>0.844143</td>\n",
       "      <td>-0.296796</td>\n",
       "      <td>1.429875</td>\n",
       "    </tr>\n",
       "    <tr>\n",
       "      <th>2021-10-06</th>\n",
       "      <td>0.606376</td>\n",
       "      <td>-0.770122</td>\n",
       "      <td>0.860709</td>\n",
       "      <td>0.269288</td>\n",
       "    </tr>\n",
       "    <tr>\n",
       "      <th>2021-10-07</th>\n",
       "      <td>1.100345</td>\n",
       "      <td>-0.615119</td>\n",
       "      <td>-0.402243</td>\n",
       "      <td>-0.631559</td>\n",
       "    </tr>\n",
       "  </tbody>\n",
       "</table>\n",
       "</div>"
      ],
      "text/plain": [
       "                   A         B         C         D\n",
       "2021-09-28  1.296194  0.593464 -0.534440 -0.409959\n",
       "2021-09-29 -1.491104 -0.434138 -0.854868  0.136571\n",
       "2021-09-30 -0.049610  0.787340  0.698990 -0.040902\n",
       "2021-10-01  1.138374 -0.225020 -0.432230  0.793667\n",
       "2021-10-02  0.066698 -0.386431  0.574115 -0.872801\n",
       "2021-10-03 -0.869831  2.075139 -0.327897 -1.649215\n",
       "2021-10-04  0.552108 -0.576175  1.400574 -1.322480\n",
       "2021-10-05  0.084900  0.844143 -0.296796  1.429875\n",
       "2021-10-06  0.606376 -0.770122  0.860709  0.269288\n",
       "2021-10-07  1.100345 -0.615119 -0.402243 -0.631559"
      ]
     },
     "execution_count": 7,
     "metadata": {},
     "output_type": "execute_result"
    }
   ],
   "source": [
    "#to create a data frame\n",
    "#the np.random.rndm()FUNCTION CREATES AN array of specified shape amd fills it with random values as per standard normal distribution\n",
    "#column name with label A,B,C,D\n",
    "#INDEX OF THE DATAFAME IS the  d and it contains datetime index\n",
    "\n",
    "df=pd.DataFrame(np.random.randn(10,4),index=d,columns=[\"A\",\"B\",\"C\",\"D\"])\n",
    "df"
   ]
  },
  {
   "cell_type": "code",
   "execution_count": 6,
   "id": "8db87334",
   "metadata": {},
   "outputs": [],
   "source": [
    "#create a dataframe by passing a dictionary of objects and converted into a series\n",
    "\n",
    "dfI=pd.DataFrame({\"A\":[1,2,3,4],\n",
    "                 \"B\":pd.Timestamp('20210928'),\n",
    "                 \"C\":pd.Series(1,index=list(range(4)),dtype=\"float32\"),\n",
    "                 \"D\":np.array([5]*4,dtype=\"int32\"),\n",
    "                 \"E\":pd.Categorical([\"true\",\"false\",\"True\",\"False\"]),\n",
    "                 \"F\":\"Pandas\"})"
   ]
  },
  {
   "cell_type": "code",
   "execution_count": 7,
   "id": "aad8f6bd",
   "metadata": {
    "scrolled": true
   },
   "outputs": [
    {
     "data": {
      "text/html": [
       "<div>\n",
       "<style scoped>\n",
       "    .dataframe tbody tr th:only-of-type {\n",
       "        vertical-align: middle;\n",
       "    }\n",
       "\n",
       "    .dataframe tbody tr th {\n",
       "        vertical-align: top;\n",
       "    }\n",
       "\n",
       "    .dataframe thead th {\n",
       "        text-align: right;\n",
       "    }\n",
       "</style>\n",
       "<table border=\"1\" class=\"dataframe\">\n",
       "  <thead>\n",
       "    <tr style=\"text-align: right;\">\n",
       "      <th></th>\n",
       "      <th>A</th>\n",
       "      <th>B</th>\n",
       "      <th>C</th>\n",
       "      <th>D</th>\n",
       "      <th>E</th>\n",
       "      <th>F</th>\n",
       "    </tr>\n",
       "  </thead>\n",
       "  <tbody>\n",
       "    <tr>\n",
       "      <th>0</th>\n",
       "      <td>1</td>\n",
       "      <td>2021-09-28</td>\n",
       "      <td>1.0</td>\n",
       "      <td>5</td>\n",
       "      <td>true</td>\n",
       "      <td>Pandas</td>\n",
       "    </tr>\n",
       "    <tr>\n",
       "      <th>1</th>\n",
       "      <td>2</td>\n",
       "      <td>2021-09-28</td>\n",
       "      <td>1.0</td>\n",
       "      <td>5</td>\n",
       "      <td>false</td>\n",
       "      <td>Pandas</td>\n",
       "    </tr>\n",
       "    <tr>\n",
       "      <th>2</th>\n",
       "      <td>3</td>\n",
       "      <td>2021-09-28</td>\n",
       "      <td>1.0</td>\n",
       "      <td>5</td>\n",
       "      <td>True</td>\n",
       "      <td>Pandas</td>\n",
       "    </tr>\n",
       "    <tr>\n",
       "      <th>3</th>\n",
       "      <td>4</td>\n",
       "      <td>2021-09-28</td>\n",
       "      <td>1.0</td>\n",
       "      <td>5</td>\n",
       "      <td>False</td>\n",
       "      <td>Pandas</td>\n",
       "    </tr>\n",
       "  </tbody>\n",
       "</table>\n",
       "</div>"
      ],
      "text/plain": [
       "   A          B    C  D      E       F\n",
       "0  1 2021-09-28  1.0  5   true  Pandas\n",
       "1  2 2021-09-28  1.0  5  false  Pandas\n",
       "2  3 2021-09-28  1.0  5   True  Pandas\n",
       "3  4 2021-09-28  1.0  5  False  Pandas"
      ]
     },
     "execution_count": 7,
     "metadata": {},
     "output_type": "execute_result"
    }
   ],
   "source": [
    "dfI"
   ]
  },
  {
   "cell_type": "code",
   "execution_count": 8,
   "id": "fcced200",
   "metadata": {},
   "outputs": [
    {
     "data": {
      "text/plain": [
       "A             int64\n",
       "B    datetime64[ns]\n",
       "C           float32\n",
       "D             int32\n",
       "E          category\n",
       "F            object\n",
       "dtype: object"
      ]
     },
     "execution_count": 8,
     "metadata": {},
     "output_type": "execute_result"
    }
   ],
   "source": [
    "#to check datatype\n",
    "dfI.dtypes"
   ]
  },
  {
   "cell_type": "code",
   "execution_count": 9,
   "id": "75621b27",
   "metadata": {},
   "outputs": [
    {
     "data": {
      "text/plain": [
       "A    float64\n",
       "B    float64\n",
       "C    float64\n",
       "D    float64\n",
       "dtype: object"
      ]
     },
     "execution_count": 9,
     "metadata": {},
     "output_type": "execute_result"
    }
   ],
   "source": [
    "df.dtypes"
   ]
  },
  {
   "cell_type": "code",
   "execution_count": 10,
   "id": "2e258ba3",
   "metadata": {},
   "outputs": [
    {
     "data": {
      "text/html": [
       "<div>\n",
       "<style scoped>\n",
       "    .dataframe tbody tr th:only-of-type {\n",
       "        vertical-align: middle;\n",
       "    }\n",
       "\n",
       "    .dataframe tbody tr th {\n",
       "        vertical-align: top;\n",
       "    }\n",
       "\n",
       "    .dataframe thead th {\n",
       "        text-align: right;\n",
       "    }\n",
       "</style>\n",
       "<table border=\"1\" class=\"dataframe\">\n",
       "  <thead>\n",
       "    <tr style=\"text-align: right;\">\n",
       "      <th></th>\n",
       "      <th>A</th>\n",
       "      <th>B</th>\n",
       "      <th>C</th>\n",
       "      <th>D</th>\n",
       "    </tr>\n",
       "  </thead>\n",
       "  <tbody>\n",
       "    <tr>\n",
       "      <th>2021-09-28</th>\n",
       "      <td>0.835414</td>\n",
       "      <td>-0.855931</td>\n",
       "      <td>0.519553</td>\n",
       "      <td>0.147072</td>\n",
       "    </tr>\n",
       "    <tr>\n",
       "      <th>2021-09-29</th>\n",
       "      <td>0.194669</td>\n",
       "      <td>-0.422165</td>\n",
       "      <td>-0.079183</td>\n",
       "      <td>0.214907</td>\n",
       "    </tr>\n",
       "    <tr>\n",
       "      <th>2021-09-30</th>\n",
       "      <td>-0.636197</td>\n",
       "      <td>-0.949706</td>\n",
       "      <td>-0.123662</td>\n",
       "      <td>-0.192115</td>\n",
       "    </tr>\n",
       "    <tr>\n",
       "      <th>2021-10-01</th>\n",
       "      <td>-1.370165</td>\n",
       "      <td>-0.905206</td>\n",
       "      <td>1.228790</td>\n",
       "      <td>0.715642</td>\n",
       "    </tr>\n",
       "    <tr>\n",
       "      <th>2021-10-02</th>\n",
       "      <td>1.883978</td>\n",
       "      <td>-0.312378</td>\n",
       "      <td>0.797981</td>\n",
       "      <td>0.425872</td>\n",
       "    </tr>\n",
       "  </tbody>\n",
       "</table>\n",
       "</div>"
      ],
      "text/plain": [
       "                   A         B         C         D\n",
       "2021-09-28  0.835414 -0.855931  0.519553  0.147072\n",
       "2021-09-29  0.194669 -0.422165 -0.079183  0.214907\n",
       "2021-09-30 -0.636197 -0.949706 -0.123662 -0.192115\n",
       "2021-10-01 -1.370165 -0.905206  1.228790  0.715642\n",
       "2021-10-02  1.883978 -0.312378  0.797981  0.425872"
      ]
     },
     "execution_count": 10,
     "metadata": {},
     "output_type": "execute_result"
    }
   ],
   "source": [
    "#view the data\n",
    "#it will give the first 5 values\n",
    "df.head()"
   ]
  },
  {
   "cell_type": "code",
   "execution_count": 11,
   "id": "77bfe2fc",
   "metadata": {},
   "outputs": [
    {
     "data": {
      "text/html": [
       "<div>\n",
       "<style scoped>\n",
       "    .dataframe tbody tr th:only-of-type {\n",
       "        vertical-align: middle;\n",
       "    }\n",
       "\n",
       "    .dataframe tbody tr th {\n",
       "        vertical-align: top;\n",
       "    }\n",
       "\n",
       "    .dataframe thead th {\n",
       "        text-align: right;\n",
       "    }\n",
       "</style>\n",
       "<table border=\"1\" class=\"dataframe\">\n",
       "  <thead>\n",
       "    <tr style=\"text-align: right;\">\n",
       "      <th></th>\n",
       "      <th>A</th>\n",
       "      <th>B</th>\n",
       "      <th>C</th>\n",
       "      <th>D</th>\n",
       "    </tr>\n",
       "  </thead>\n",
       "  <tbody>\n",
       "    <tr>\n",
       "      <th>2021-10-03</th>\n",
       "      <td>1.023083</td>\n",
       "      <td>-0.701660</td>\n",
       "      <td>-0.297156</td>\n",
       "      <td>1.448846</td>\n",
       "    </tr>\n",
       "    <tr>\n",
       "      <th>2021-10-04</th>\n",
       "      <td>-0.069030</td>\n",
       "      <td>0.127538</td>\n",
       "      <td>-0.117697</td>\n",
       "      <td>0.654312</td>\n",
       "    </tr>\n",
       "    <tr>\n",
       "      <th>2021-10-05</th>\n",
       "      <td>-0.502871</td>\n",
       "      <td>0.934483</td>\n",
       "      <td>1.788035</td>\n",
       "      <td>1.846163</td>\n",
       "    </tr>\n",
       "    <tr>\n",
       "      <th>2021-10-06</th>\n",
       "      <td>0.427816</td>\n",
       "      <td>-2.272611</td>\n",
       "      <td>-1.802170</td>\n",
       "      <td>-0.719454</td>\n",
       "    </tr>\n",
       "    <tr>\n",
       "      <th>2021-10-07</th>\n",
       "      <td>-0.801395</td>\n",
       "      <td>1.140048</td>\n",
       "      <td>0.718793</td>\n",
       "      <td>-0.465199</td>\n",
       "    </tr>\n",
       "  </tbody>\n",
       "</table>\n",
       "</div>"
      ],
      "text/plain": [
       "                   A         B         C         D\n",
       "2021-10-03  1.023083 -0.701660 -0.297156  1.448846\n",
       "2021-10-04 -0.069030  0.127538 -0.117697  0.654312\n",
       "2021-10-05 -0.502871  0.934483  1.788035  1.846163\n",
       "2021-10-06  0.427816 -2.272611 -1.802170 -0.719454\n",
       "2021-10-07 -0.801395  1.140048  0.718793 -0.465199"
      ]
     },
     "execution_count": 11,
     "metadata": {},
     "output_type": "execute_result"
    }
   ],
   "source": [
    "#view the data\n",
    "#it will give the first 5 values\n",
    "df.tail()"
   ]
  },
  {
   "cell_type": "code",
   "execution_count": 12,
   "id": "11cac205",
   "metadata": {},
   "outputs": [
    {
     "data": {
      "text/plain": [
       "DatetimeIndex(['2021-09-28', '2021-09-29', '2021-09-30', '2021-10-01',\n",
       "               '2021-10-02', '2021-10-03', '2021-10-04', '2021-10-05',\n",
       "               '2021-10-06', '2021-10-07'],\n",
       "              dtype='datetime64[ns]', freq='D')"
      ]
     },
     "execution_count": 12,
     "metadata": {},
     "output_type": "execute_result"
    }
   ],
   "source": [
    "#to get the index of the dataframe\n",
    "df.index"
   ]
  },
  {
   "cell_type": "code",
   "execution_count": 13,
   "id": "874c16e0",
   "metadata": {},
   "outputs": [
    {
     "data": {
      "text/plain": [
       "Index(['A', 'B', 'C', 'D'], dtype='object')"
      ]
     },
     "execution_count": 13,
     "metadata": {},
     "output_type": "execute_result"
    }
   ],
   "source": [
    "#to get the column of the dataframe\n",
    "df.columns"
   ]
  },
  {
   "cell_type": "code",
   "execution_count": 14,
   "id": "0175e8b2",
   "metadata": {
    "scrolled": true
   },
   "outputs": [
    {
     "data": {
      "text/plain": [
       "array([[ 0.8354144 , -0.85593139,  0.51955255,  0.14707217],\n",
       "       [ 0.19466856, -0.42216543, -0.0791827 ,  0.21490652],\n",
       "       [-0.63619685, -0.94970599, -0.12366155, -0.19211461],\n",
       "       [-1.37016538, -0.90520553,  1.22878971,  0.71564197],\n",
       "       [ 1.88397813, -0.31237835,  0.79798135,  0.42587163],\n",
       "       [ 1.0230825 , -0.70165971, -0.29715615,  1.44884571],\n",
       "       [-0.06902961,  0.12753774, -0.11769682,  0.65431184],\n",
       "       [-0.50287125,  0.93448308,  1.78803506,  1.84616322],\n",
       "       [ 0.42781578, -2.27261139, -1.80217015, -0.71945428],\n",
       "       [-0.80139494,  1.14004817,  0.71879347, -0.46519931]])"
      ]
     },
     "execution_count": 14,
     "metadata": {},
     "output_type": "execute_result"
    }
   ],
   "source": [
    "#to give the numpy representation  of the data\n",
    "df.to_numpy()"
   ]
  },
  {
   "cell_type": "code",
   "execution_count": 15,
   "id": "5aaa99e8",
   "metadata": {},
   "outputs": [
    {
     "data": {
      "text/html": [
       "<div>\n",
       "<style scoped>\n",
       "    .dataframe tbody tr th:only-of-type {\n",
       "        vertical-align: middle;\n",
       "    }\n",
       "\n",
       "    .dataframe tbody tr th {\n",
       "        vertical-align: top;\n",
       "    }\n",
       "\n",
       "    .dataframe thead th {\n",
       "        text-align: right;\n",
       "    }\n",
       "</style>\n",
       "<table border=\"1\" class=\"dataframe\">\n",
       "  <thead>\n",
       "    <tr style=\"text-align: right;\">\n",
       "      <th></th>\n",
       "      <th>A</th>\n",
       "      <th>B</th>\n",
       "      <th>C</th>\n",
       "      <th>D</th>\n",
       "    </tr>\n",
       "  </thead>\n",
       "  <tbody>\n",
       "    <tr>\n",
       "      <th>count</th>\n",
       "      <td>10.000000</td>\n",
       "      <td>10.000000</td>\n",
       "      <td>10.000000</td>\n",
       "      <td>10.000000</td>\n",
       "    </tr>\n",
       "    <tr>\n",
       "      <th>mean</th>\n",
       "      <td>0.098530</td>\n",
       "      <td>-0.421759</td>\n",
       "      <td>0.263328</td>\n",
       "      <td>0.407604</td>\n",
       "    </tr>\n",
       "    <tr>\n",
       "      <th>std</th>\n",
       "      <td>0.977514</td>\n",
       "      <td>0.988674</td>\n",
       "      <td>0.989303</td>\n",
       "      <td>0.803219</td>\n",
       "    </tr>\n",
       "    <tr>\n",
       "      <th>min</th>\n",
       "      <td>-1.370165</td>\n",
       "      <td>-2.272611</td>\n",
       "      <td>-1.802170</td>\n",
       "      <td>-0.719454</td>\n",
       "    </tr>\n",
       "    <tr>\n",
       "      <th>25%</th>\n",
       "      <td>-0.602865</td>\n",
       "      <td>-0.892887</td>\n",
       "      <td>-0.122170</td>\n",
       "      <td>-0.107318</td>\n",
       "    </tr>\n",
       "    <tr>\n",
       "      <th>50%</th>\n",
       "      <td>0.062819</td>\n",
       "      <td>-0.561913</td>\n",
       "      <td>0.220185</td>\n",
       "      <td>0.320389</td>\n",
       "    </tr>\n",
       "    <tr>\n",
       "      <th>75%</th>\n",
       "      <td>0.733515</td>\n",
       "      <td>0.017559</td>\n",
       "      <td>0.778184</td>\n",
       "      <td>0.700309</td>\n",
       "    </tr>\n",
       "    <tr>\n",
       "      <th>max</th>\n",
       "      <td>1.883978</td>\n",
       "      <td>1.140048</td>\n",
       "      <td>1.788035</td>\n",
       "      <td>1.846163</td>\n",
       "    </tr>\n",
       "  </tbody>\n",
       "</table>\n",
       "</div>"
      ],
      "text/plain": [
       "               A          B          C          D\n",
       "count  10.000000  10.000000  10.000000  10.000000\n",
       "mean    0.098530  -0.421759   0.263328   0.407604\n",
       "std     0.977514   0.988674   0.989303   0.803219\n",
       "min    -1.370165  -2.272611  -1.802170  -0.719454\n",
       "25%    -0.602865  -0.892887  -0.122170  -0.107318\n",
       "50%     0.062819  -0.561913   0.220185   0.320389\n",
       "75%     0.733515   0.017559   0.778184   0.700309\n",
       "max     1.883978   1.140048   1.788035   1.846163"
      ]
     },
     "execution_count": 15,
     "metadata": {},
     "output_type": "execute_result"
    }
   ],
   "source": [
    "#to describe data\n",
    "df.describe()"
   ]
  },
  {
   "cell_type": "code",
   "execution_count": 16,
   "id": "f874cb33",
   "metadata": {},
   "outputs": [
    {
     "data": {
      "text/html": [
       "<div>\n",
       "<style scoped>\n",
       "    .dataframe tbody tr th:only-of-type {\n",
       "        vertical-align: middle;\n",
       "    }\n",
       "\n",
       "    .dataframe tbody tr th {\n",
       "        vertical-align: top;\n",
       "    }\n",
       "\n",
       "    .dataframe thead th {\n",
       "        text-align: right;\n",
       "    }\n",
       "</style>\n",
       "<table border=\"1\" class=\"dataframe\">\n",
       "  <thead>\n",
       "    <tr style=\"text-align: right;\">\n",
       "      <th></th>\n",
       "      <th>D</th>\n",
       "      <th>C</th>\n",
       "      <th>B</th>\n",
       "      <th>A</th>\n",
       "    </tr>\n",
       "  </thead>\n",
       "  <tbody>\n",
       "    <tr>\n",
       "      <th>2021-09-28</th>\n",
       "      <td>0.147072</td>\n",
       "      <td>0.519553</td>\n",
       "      <td>-0.855931</td>\n",
       "      <td>0.835414</td>\n",
       "    </tr>\n",
       "    <tr>\n",
       "      <th>2021-09-29</th>\n",
       "      <td>0.214907</td>\n",
       "      <td>-0.079183</td>\n",
       "      <td>-0.422165</td>\n",
       "      <td>0.194669</td>\n",
       "    </tr>\n",
       "    <tr>\n",
       "      <th>2021-09-30</th>\n",
       "      <td>-0.192115</td>\n",
       "      <td>-0.123662</td>\n",
       "      <td>-0.949706</td>\n",
       "      <td>-0.636197</td>\n",
       "    </tr>\n",
       "    <tr>\n",
       "      <th>2021-10-01</th>\n",
       "      <td>0.715642</td>\n",
       "      <td>1.228790</td>\n",
       "      <td>-0.905206</td>\n",
       "      <td>-1.370165</td>\n",
       "    </tr>\n",
       "    <tr>\n",
       "      <th>2021-10-02</th>\n",
       "      <td>0.425872</td>\n",
       "      <td>0.797981</td>\n",
       "      <td>-0.312378</td>\n",
       "      <td>1.883978</td>\n",
       "    </tr>\n",
       "    <tr>\n",
       "      <th>2021-10-03</th>\n",
       "      <td>1.448846</td>\n",
       "      <td>-0.297156</td>\n",
       "      <td>-0.701660</td>\n",
       "      <td>1.023083</td>\n",
       "    </tr>\n",
       "    <tr>\n",
       "      <th>2021-10-04</th>\n",
       "      <td>0.654312</td>\n",
       "      <td>-0.117697</td>\n",
       "      <td>0.127538</td>\n",
       "      <td>-0.069030</td>\n",
       "    </tr>\n",
       "    <tr>\n",
       "      <th>2021-10-05</th>\n",
       "      <td>1.846163</td>\n",
       "      <td>1.788035</td>\n",
       "      <td>0.934483</td>\n",
       "      <td>-0.502871</td>\n",
       "    </tr>\n",
       "    <tr>\n",
       "      <th>2021-10-06</th>\n",
       "      <td>-0.719454</td>\n",
       "      <td>-1.802170</td>\n",
       "      <td>-2.272611</td>\n",
       "      <td>0.427816</td>\n",
       "    </tr>\n",
       "    <tr>\n",
       "      <th>2021-10-07</th>\n",
       "      <td>-0.465199</td>\n",
       "      <td>0.718793</td>\n",
       "      <td>1.140048</td>\n",
       "      <td>-0.801395</td>\n",
       "    </tr>\n",
       "  </tbody>\n",
       "</table>\n",
       "</div>"
      ],
      "text/plain": [
       "                   D         C         B         A\n",
       "2021-09-28  0.147072  0.519553 -0.855931  0.835414\n",
       "2021-09-29  0.214907 -0.079183 -0.422165  0.194669\n",
       "2021-09-30 -0.192115 -0.123662 -0.949706 -0.636197\n",
       "2021-10-01  0.715642  1.228790 -0.905206 -1.370165\n",
       "2021-10-02  0.425872  0.797981 -0.312378  1.883978\n",
       "2021-10-03  1.448846 -0.297156 -0.701660  1.023083\n",
       "2021-10-04  0.654312 -0.117697  0.127538 -0.069030\n",
       "2021-10-05  1.846163  1.788035  0.934483 -0.502871\n",
       "2021-10-06 -0.719454 -1.802170 -2.272611  0.427816\n",
       "2021-10-07 -0.465199  0.718793  1.140048 -0.801395"
      ]
     },
     "execution_count": 16,
     "metadata": {},
     "output_type": "execute_result"
    }
   ],
   "source": [
    "#data frame sorted by index\n",
    "df.sort_index(axis=1,ascending=False)"
   ]
  },
  {
   "cell_type": "code",
   "execution_count": 17,
   "id": "51d37cc4",
   "metadata": {},
   "outputs": [
    {
     "data": {
      "text/html": [
       "<div>\n",
       "<style scoped>\n",
       "    .dataframe tbody tr th:only-of-type {\n",
       "        vertical-align: middle;\n",
       "    }\n",
       "\n",
       "    .dataframe tbody tr th {\n",
       "        vertical-align: top;\n",
       "    }\n",
       "\n",
       "    .dataframe thead th {\n",
       "        text-align: right;\n",
       "    }\n",
       "</style>\n",
       "<table border=\"1\" class=\"dataframe\">\n",
       "  <thead>\n",
       "    <tr style=\"text-align: right;\">\n",
       "      <th></th>\n",
       "      <th>A</th>\n",
       "      <th>B</th>\n",
       "      <th>C</th>\n",
       "      <th>D</th>\n",
       "    </tr>\n",
       "  </thead>\n",
       "  <tbody>\n",
       "    <tr>\n",
       "      <th>2021-10-06</th>\n",
       "      <td>0.427816</td>\n",
       "      <td>-2.272611</td>\n",
       "      <td>-1.802170</td>\n",
       "      <td>-0.719454</td>\n",
       "    </tr>\n",
       "    <tr>\n",
       "      <th>2021-10-03</th>\n",
       "      <td>1.023083</td>\n",
       "      <td>-0.701660</td>\n",
       "      <td>-0.297156</td>\n",
       "      <td>1.448846</td>\n",
       "    </tr>\n",
       "    <tr>\n",
       "      <th>2021-09-30</th>\n",
       "      <td>-0.636197</td>\n",
       "      <td>-0.949706</td>\n",
       "      <td>-0.123662</td>\n",
       "      <td>-0.192115</td>\n",
       "    </tr>\n",
       "    <tr>\n",
       "      <th>2021-10-04</th>\n",
       "      <td>-0.069030</td>\n",
       "      <td>0.127538</td>\n",
       "      <td>-0.117697</td>\n",
       "      <td>0.654312</td>\n",
       "    </tr>\n",
       "    <tr>\n",
       "      <th>2021-09-29</th>\n",
       "      <td>0.194669</td>\n",
       "      <td>-0.422165</td>\n",
       "      <td>-0.079183</td>\n",
       "      <td>0.214907</td>\n",
       "    </tr>\n",
       "    <tr>\n",
       "      <th>2021-09-28</th>\n",
       "      <td>0.835414</td>\n",
       "      <td>-0.855931</td>\n",
       "      <td>0.519553</td>\n",
       "      <td>0.147072</td>\n",
       "    </tr>\n",
       "    <tr>\n",
       "      <th>2021-10-07</th>\n",
       "      <td>-0.801395</td>\n",
       "      <td>1.140048</td>\n",
       "      <td>0.718793</td>\n",
       "      <td>-0.465199</td>\n",
       "    </tr>\n",
       "    <tr>\n",
       "      <th>2021-10-02</th>\n",
       "      <td>1.883978</td>\n",
       "      <td>-0.312378</td>\n",
       "      <td>0.797981</td>\n",
       "      <td>0.425872</td>\n",
       "    </tr>\n",
       "    <tr>\n",
       "      <th>2021-10-01</th>\n",
       "      <td>-1.370165</td>\n",
       "      <td>-0.905206</td>\n",
       "      <td>1.228790</td>\n",
       "      <td>0.715642</td>\n",
       "    </tr>\n",
       "    <tr>\n",
       "      <th>2021-10-05</th>\n",
       "      <td>-0.502871</td>\n",
       "      <td>0.934483</td>\n",
       "      <td>1.788035</td>\n",
       "      <td>1.846163</td>\n",
       "    </tr>\n",
       "  </tbody>\n",
       "</table>\n",
       "</div>"
      ],
      "text/plain": [
       "                   A         B         C         D\n",
       "2021-10-06  0.427816 -2.272611 -1.802170 -0.719454\n",
       "2021-10-03  1.023083 -0.701660 -0.297156  1.448846\n",
       "2021-09-30 -0.636197 -0.949706 -0.123662 -0.192115\n",
       "2021-10-04 -0.069030  0.127538 -0.117697  0.654312\n",
       "2021-09-29  0.194669 -0.422165 -0.079183  0.214907\n",
       "2021-09-28  0.835414 -0.855931  0.519553  0.147072\n",
       "2021-10-07 -0.801395  1.140048  0.718793 -0.465199\n",
       "2021-10-02  1.883978 -0.312378  0.797981  0.425872\n",
       "2021-10-01 -1.370165 -0.905206  1.228790  0.715642\n",
       "2021-10-05 -0.502871  0.934483  1.788035  1.846163"
      ]
     },
     "execution_count": 17,
     "metadata": {},
     "output_type": "execute_result"
    }
   ],
   "source": [
    "#sorting the dataframe by values\n",
    "#it sort the dataframe depending on\"c\"\n",
    "df.sort_values(by=\"C\")\n",
    "\n"
   ]
  },
  {
   "cell_type": "code",
   "execution_count": 18,
   "id": "31173d31",
   "metadata": {},
   "outputs": [
    {
     "data": {
      "text/plain": [
       "2021-09-28    0.519553\n",
       "2021-09-29   -0.079183\n",
       "2021-09-30   -0.123662\n",
       "2021-10-01    1.228790\n",
       "2021-10-02    0.797981\n",
       "2021-10-03   -0.297156\n",
       "2021-10-04   -0.117697\n",
       "2021-10-05    1.788035\n",
       "2021-10-06   -1.802170\n",
       "2021-10-07    0.718793\n",
       "Freq: D, Name: C, dtype: float64"
      ]
     },
     "execution_count": 18,
     "metadata": {},
     "output_type": "execute_result"
    }
   ],
   "source": [
    "#to access only the single column\n",
    "df[\"C\"]"
   ]
  },
  {
   "cell_type": "code",
   "execution_count": 19,
   "id": "3ef77271",
   "metadata": {},
   "outputs": [
    {
     "data": {
      "text/html": [
       "<div>\n",
       "<style scoped>\n",
       "    .dataframe tbody tr th:only-of-type {\n",
       "        vertical-align: middle;\n",
       "    }\n",
       "\n",
       "    .dataframe tbody tr th {\n",
       "        vertical-align: top;\n",
       "    }\n",
       "\n",
       "    .dataframe thead th {\n",
       "        text-align: right;\n",
       "    }\n",
       "</style>\n",
       "<table border=\"1\" class=\"dataframe\">\n",
       "  <thead>\n",
       "    <tr style=\"text-align: right;\">\n",
       "      <th></th>\n",
       "      <th>A</th>\n",
       "      <th>B</th>\n",
       "      <th>C</th>\n",
       "      <th>D</th>\n",
       "    </tr>\n",
       "  </thead>\n",
       "  <tbody>\n",
       "    <tr>\n",
       "      <th>2021-09-28</th>\n",
       "      <td>0.835414</td>\n",
       "      <td>-0.855931</td>\n",
       "      <td>0.519553</td>\n",
       "      <td>0.147072</td>\n",
       "    </tr>\n",
       "    <tr>\n",
       "      <th>2021-09-29</th>\n",
       "      <td>0.194669</td>\n",
       "      <td>-0.422165</td>\n",
       "      <td>-0.079183</td>\n",
       "      <td>0.214907</td>\n",
       "    </tr>\n",
       "    <tr>\n",
       "      <th>2021-09-30</th>\n",
       "      <td>-0.636197</td>\n",
       "      <td>-0.949706</td>\n",
       "      <td>-0.123662</td>\n",
       "      <td>-0.192115</td>\n",
       "    </tr>\n",
       "  </tbody>\n",
       "</table>\n",
       "</div>"
      ],
      "text/plain": [
       "                   A         B         C         D\n",
       "2021-09-28  0.835414 -0.855931  0.519553  0.147072\n",
       "2021-09-29  0.194669 -0.422165 -0.079183  0.214907\n",
       "2021-09-30 -0.636197 -0.949706 -0.123662 -0.192115"
      ]
     },
     "execution_count": 19,
     "metadata": {},
     "output_type": "execute_result"
    }
   ],
   "source": [
    "#to slice the rows\n",
    "#it will give the result from the 0th row to 3rd row\n",
    "df[0:3]"
   ]
  },
  {
   "cell_type": "code",
   "execution_count": 20,
   "id": "c3bcd7c3",
   "metadata": {},
   "outputs": [
    {
     "data": {
      "text/plain": [
       "A    0.194669\n",
       "B   -0.422165\n",
       "C   -0.079183\n",
       "D    0.214907\n",
       "Name: 2021-09-29 00:00:00, dtype: float64"
      ]
     },
     "execution_count": 20,
     "metadata": {},
     "output_type": "execute_result"
    }
   ],
   "source": [
    "#to select the data by using the labels\n",
    "#inside the loc method ,we can pass the values  by labels\n",
    "df.loc[d[1]]"
   ]
  },
  {
   "cell_type": "code",
   "execution_count": 21,
   "id": "86cd843f",
   "metadata": {},
   "outputs": [
    {
     "data": {
      "text/html": [
       "<div>\n",
       "<style scoped>\n",
       "    .dataframe tbody tr th:only-of-type {\n",
       "        vertical-align: middle;\n",
       "    }\n",
       "\n",
       "    .dataframe tbody tr th {\n",
       "        vertical-align: top;\n",
       "    }\n",
       "\n",
       "    .dataframe thead th {\n",
       "        text-align: right;\n",
       "    }\n",
       "</style>\n",
       "<table border=\"1\" class=\"dataframe\">\n",
       "  <thead>\n",
       "    <tr style=\"text-align: right;\">\n",
       "      <th></th>\n",
       "      <th>A</th>\n",
       "      <th>C</th>\n",
       "    </tr>\n",
       "  </thead>\n",
       "  <tbody>\n",
       "    <tr>\n",
       "      <th>2021-09-28</th>\n",
       "      <td>0.835414</td>\n",
       "      <td>0.519553</td>\n",
       "    </tr>\n",
       "    <tr>\n",
       "      <th>2021-09-29</th>\n",
       "      <td>0.194669</td>\n",
       "      <td>-0.079183</td>\n",
       "    </tr>\n",
       "    <tr>\n",
       "      <th>2021-09-30</th>\n",
       "      <td>-0.636197</td>\n",
       "      <td>-0.123662</td>\n",
       "    </tr>\n",
       "    <tr>\n",
       "      <th>2021-10-01</th>\n",
       "      <td>-1.370165</td>\n",
       "      <td>1.228790</td>\n",
       "    </tr>\n",
       "    <tr>\n",
       "      <th>2021-10-02</th>\n",
       "      <td>1.883978</td>\n",
       "      <td>0.797981</td>\n",
       "    </tr>\n",
       "    <tr>\n",
       "      <th>2021-10-03</th>\n",
       "      <td>1.023083</td>\n",
       "      <td>-0.297156</td>\n",
       "    </tr>\n",
       "    <tr>\n",
       "      <th>2021-10-04</th>\n",
       "      <td>-0.069030</td>\n",
       "      <td>-0.117697</td>\n",
       "    </tr>\n",
       "    <tr>\n",
       "      <th>2021-10-05</th>\n",
       "      <td>-0.502871</td>\n",
       "      <td>1.788035</td>\n",
       "    </tr>\n",
       "    <tr>\n",
       "      <th>2021-10-06</th>\n",
       "      <td>0.427816</td>\n",
       "      <td>-1.802170</td>\n",
       "    </tr>\n",
       "    <tr>\n",
       "      <th>2021-10-07</th>\n",
       "      <td>-0.801395</td>\n",
       "      <td>0.718793</td>\n",
       "    </tr>\n",
       "  </tbody>\n",
       "</table>\n",
       "</div>"
      ],
      "text/plain": [
       "                   A         C\n",
       "2021-09-28  0.835414  0.519553\n",
       "2021-09-29  0.194669 -0.079183\n",
       "2021-09-30 -0.636197 -0.123662\n",
       "2021-10-01 -1.370165  1.228790\n",
       "2021-10-02  1.883978  0.797981\n",
       "2021-10-03  1.023083 -0.297156\n",
       "2021-10-04 -0.069030 -0.117697\n",
       "2021-10-05 -0.502871  1.788035\n",
       "2021-10-06  0.427816 -1.802170\n",
       "2021-10-07 -0.801395  0.718793"
      ]
     },
     "execution_count": 21,
     "metadata": {},
     "output_type": "execute_result"
    }
   ],
   "source": [
    "#to selecting data on a multi axis by label\n",
    "df.loc[:,[\"A\",\"C\"]]"
   ]
  },
  {
   "cell_type": "code",
   "execution_count": 9,
   "id": "842de255",
   "metadata": {},
   "outputs": [
    {
     "data": {
      "text/html": [
       "<div>\n",
       "<style scoped>\n",
       "    .dataframe tbody tr th:only-of-type {\n",
       "        vertical-align: middle;\n",
       "    }\n",
       "\n",
       "    .dataframe tbody tr th {\n",
       "        vertical-align: top;\n",
       "    }\n",
       "\n",
       "    .dataframe thead th {\n",
       "        text-align: right;\n",
       "    }\n",
       "</style>\n",
       "<table border=\"1\" class=\"dataframe\">\n",
       "  <thead>\n",
       "    <tr style=\"text-align: right;\">\n",
       "      <th></th>\n",
       "      <th>D</th>\n",
       "      <th>C</th>\n",
       "    </tr>\n",
       "  </thead>\n",
       "  <tbody>\n",
       "    <tr>\n",
       "      <th>2021-09-28</th>\n",
       "      <td>-0.409959</td>\n",
       "      <td>-0.534440</td>\n",
       "    </tr>\n",
       "    <tr>\n",
       "      <th>2021-09-29</th>\n",
       "      <td>0.136571</td>\n",
       "      <td>-0.854868</td>\n",
       "    </tr>\n",
       "    <tr>\n",
       "      <th>2021-09-30</th>\n",
       "      <td>-0.040902</td>\n",
       "      <td>0.698990</td>\n",
       "    </tr>\n",
       "    <tr>\n",
       "      <th>2021-10-01</th>\n",
       "      <td>0.793667</td>\n",
       "      <td>-0.432230</td>\n",
       "    </tr>\n",
       "    <tr>\n",
       "      <th>2021-10-02</th>\n",
       "      <td>-0.872801</td>\n",
       "      <td>0.574115</td>\n",
       "    </tr>\n",
       "    <tr>\n",
       "      <th>2021-10-03</th>\n",
       "      <td>-1.649215</td>\n",
       "      <td>-0.327897</td>\n",
       "    </tr>\n",
       "  </tbody>\n",
       "</table>\n",
       "</div>"
      ],
      "text/plain": [
       "                   D         C\n",
       "2021-09-28 -0.409959 -0.534440\n",
       "2021-09-29  0.136571 -0.854868\n",
       "2021-09-30 -0.040902  0.698990\n",
       "2021-10-01  0.793667 -0.432230\n",
       "2021-10-02 -0.872801  0.574115\n",
       "2021-10-03 -1.649215 -0.327897"
      ]
     },
     "execution_count": 9,
     "metadata": {},
     "output_type": "execute_result"
    }
   ],
   "source": [
    "#to get the datewith in some range\n",
    "df.loc[\"20210928\":\"20211003\",[\"D\",\"C\"]]"
   ]
  },
  {
   "cell_type": "code",
   "execution_count": 23,
   "id": "7b1f7aae",
   "metadata": {},
   "outputs": [
    {
     "data": {
      "text/plain": [
       "D    0.147072\n",
       "C    0.519553\n",
       "Name: 2021-09-28 00:00:00, dtype: float64"
      ]
     },
     "execution_count": 23,
     "metadata": {},
     "output_type": "execute_result"
    }
   ],
   "source": [
    "# TO GET A SINGLE ELEMENT FROM  THE DATAFRAME\n",
    "df.loc[\"20210928\",[\"D\",\"C\"]]"
   ]
  },
  {
   "cell_type": "code",
   "execution_count": 24,
   "id": "d6744014",
   "metadata": {},
   "outputs": [
    {
     "data": {
      "text/plain": [
       "D    0.147072\n",
       "C    0.519553\n",
       "Name: 2021-09-28 00:00:00, dtype: float64"
      ]
     },
     "execution_count": 24,
     "metadata": {},
     "output_type": "execute_result"
    }
   ],
   "source": [
    "#to get a single element from the dataframe\n",
    "df.loc[d[0],[\"D\",\"C\"]]"
   ]
  },
  {
   "cell_type": "code",
   "execution_count": 25,
   "id": "869a8f5c",
   "metadata": {},
   "outputs": [
    {
     "data": {
      "text/plain": [
       "0.5195525462134485"
      ]
     },
     "execution_count": 25,
     "metadata": {},
     "output_type": "execute_result"
    }
   ],
   "source": [
    "#to get the exact value in 0th index at column \"c\"\n",
    "df.at[d[0],\"C\"]"
   ]
  },
  {
   "cell_type": "code",
   "execution_count": 26,
   "id": "83ab3755",
   "metadata": {},
   "outputs": [
    {
     "data": {
      "text/plain": [
       "A   -1.370165\n",
       "B   -0.905206\n",
       "C    1.228790\n",
       "D    0.715642\n",
       "Name: 2021-10-01 00:00:00, dtype: float64"
      ]
     },
     "execution_count": 26,
     "metadata": {},
     "output_type": "execute_result"
    }
   ],
   "source": [
    "#SELECTING A VALUE FROM USING THE POSITION INSIDE THE DATAFRAME\n",
    "#IT WILL SELECT ALL THE VALUE FROM THE THIRD POSITION\n",
    "df.iloc[3]"
   ]
  },
  {
   "cell_type": "code",
   "execution_count": 27,
   "id": "23d60eba",
   "metadata": {},
   "outputs": [
    {
     "data": {
      "text/html": [
       "<div>\n",
       "<style scoped>\n",
       "    .dataframe tbody tr th:only-of-type {\n",
       "        vertical-align: middle;\n",
       "    }\n",
       "\n",
       "    .dataframe tbody tr th {\n",
       "        vertical-align: top;\n",
       "    }\n",
       "\n",
       "    .dataframe thead th {\n",
       "        text-align: right;\n",
       "    }\n",
       "</style>\n",
       "<table border=\"1\" class=\"dataframe\">\n",
       "  <thead>\n",
       "    <tr style=\"text-align: right;\">\n",
       "      <th></th>\n",
       "      <th>A</th>\n",
       "      <th>B</th>\n",
       "      <th>C</th>\n",
       "      <th>D</th>\n",
       "    </tr>\n",
       "  </thead>\n",
       "  <tbody>\n",
       "    <tr>\n",
       "      <th>2021-10-01</th>\n",
       "      <td>-1.370165</td>\n",
       "      <td>-0.905206</td>\n",
       "      <td>1.228790</td>\n",
       "      <td>0.715642</td>\n",
       "    </tr>\n",
       "    <tr>\n",
       "      <th>2021-10-02</th>\n",
       "      <td>1.883978</td>\n",
       "      <td>-0.312378</td>\n",
       "      <td>0.797981</td>\n",
       "      <td>0.425872</td>\n",
       "    </tr>\n",
       "  </tbody>\n",
       "</table>\n",
       "</div>"
      ],
      "text/plain": [
       "                   A         B         C         D\n",
       "2021-10-01 -1.370165 -0.905206  1.228790  0.715642\n",
       "2021-10-02  1.883978 -0.312378  0.797981  0.425872"
      ]
     },
     "execution_count": 27,
     "metadata": {},
     "output_type": "execute_result"
    }
   ],
   "source": [
    "#to select the values in 3rd and 4th position\n",
    "df.iloc[3:5]"
   ]
  },
  {
   "cell_type": "code",
   "execution_count": 15,
   "id": "945c2a9f",
   "metadata": {},
   "outputs": [
    {
     "data": {
      "text/html": [
       "<div>\n",
       "<style scoped>\n",
       "    .dataframe tbody tr th:only-of-type {\n",
       "        vertical-align: middle;\n",
       "    }\n",
       "\n",
       "    .dataframe tbody tr th {\n",
       "        vertical-align: top;\n",
       "    }\n",
       "\n",
       "    .dataframe thead th {\n",
       "        text-align: right;\n",
       "    }\n",
       "</style>\n",
       "<table border=\"1\" class=\"dataframe\">\n",
       "  <thead>\n",
       "    <tr style=\"text-align: right;\">\n",
       "      <th></th>\n",
       "      <th>A</th>\n",
       "      <th>B</th>\n",
       "    </tr>\n",
       "  </thead>\n",
       "  <tbody>\n",
       "    <tr>\n",
       "      <th>2021-10-01</th>\n",
       "      <td>1.138374</td>\n",
       "      <td>-0.225020</td>\n",
       "    </tr>\n",
       "    <tr>\n",
       "      <th>2021-10-02</th>\n",
       "      <td>0.066698</td>\n",
       "      <td>-0.386431</td>\n",
       "    </tr>\n",
       "  </tbody>\n",
       "</table>\n",
       "</div>"
      ],
      "text/plain": [
       "                   A         B\n",
       "2021-10-01  1.138374 -0.225020\n",
       "2021-10-02  0.066698 -0.386431"
      ]
     },
     "execution_count": 15,
     "metadata": {},
     "output_type": "execute_result"
    }
   ],
   "source": [
    "#to select the value which is in 3rd 4th row,and it will only include the column strat with 0 and end with 2\n",
    "df.iloc[3:5,0:2]"
   ]
  },
  {
   "cell_type": "code",
   "execution_count": 29,
   "id": "741dc934",
   "metadata": {},
   "outputs": [
    {
     "data": {
      "text/html": [
       "<div>\n",
       "<style scoped>\n",
       "    .dataframe tbody tr th:only-of-type {\n",
       "        vertical-align: middle;\n",
       "    }\n",
       "\n",
       "    .dataframe tbody tr th {\n",
       "        vertical-align: top;\n",
       "    }\n",
       "\n",
       "    .dataframe thead th {\n",
       "        text-align: right;\n",
       "    }\n",
       "</style>\n",
       "<table border=\"1\" class=\"dataframe\">\n",
       "  <thead>\n",
       "    <tr style=\"text-align: right;\">\n",
       "      <th></th>\n",
       "      <th>A</th>\n",
       "      <th>B</th>\n",
       "      <th>C</th>\n",
       "      <th>D</th>\n",
       "    </tr>\n",
       "  </thead>\n",
       "  <tbody>\n",
       "  </tbody>\n",
       "</table>\n",
       "</div>"
      ],
      "text/plain": [
       "Empty DataFrame\n",
       "Columns: [A, B, C, D]\n",
       "Index: []"
      ]
     },
     "execution_count": 29,
     "metadata": {},
     "output_type": "execute_result"
    }
   ],
   "source": [
    "#boolean  indexing\n",
    "#it will show the values \"A\"which is greater than\"0\"\n",
    "df[df[\"A\"]>2]"
   ]
  },
  {
   "cell_type": "code",
   "execution_count": 30,
   "id": "ef798a20",
   "metadata": {},
   "outputs": [
    {
     "data": {
      "text/html": [
       "<div>\n",
       "<style scoped>\n",
       "    .dataframe tbody tr th:only-of-type {\n",
       "        vertical-align: middle;\n",
       "    }\n",
       "\n",
       "    .dataframe tbody tr th {\n",
       "        vertical-align: top;\n",
       "    }\n",
       "\n",
       "    .dataframe thead th {\n",
       "        text-align: right;\n",
       "    }\n",
       "</style>\n",
       "<table border=\"1\" class=\"dataframe\">\n",
       "  <thead>\n",
       "    <tr style=\"text-align: right;\">\n",
       "      <th></th>\n",
       "      <th>A</th>\n",
       "      <th>B</th>\n",
       "      <th>C</th>\n",
       "      <th>D</th>\n",
       "    </tr>\n",
       "  </thead>\n",
       "  <tbody>\n",
       "  </tbody>\n",
       "</table>\n",
       "</div>"
      ],
      "text/plain": [
       "Empty DataFrame\n",
       "Columns: [A, B, C, D]\n",
       "Index: []"
      ]
     },
     "execution_count": 30,
     "metadata": {},
     "output_type": "execute_result"
    }
   ],
   "source": [
    "df[df[\"A\"]>3]"
   ]
  },
  {
   "cell_type": "code",
   "execution_count": 10,
   "id": "53756661",
   "metadata": {},
   "outputs": [
    {
     "data": {
      "text/html": [
       "<div>\n",
       "<style scoped>\n",
       "    .dataframe tbody tr th:only-of-type {\n",
       "        vertical-align: middle;\n",
       "    }\n",
       "\n",
       "    .dataframe tbody tr th {\n",
       "        vertical-align: top;\n",
       "    }\n",
       "\n",
       "    .dataframe thead th {\n",
       "        text-align: right;\n",
       "    }\n",
       "</style>\n",
       "<table border=\"1\" class=\"dataframe\">\n",
       "  <thead>\n",
       "    <tr style=\"text-align: right;\">\n",
       "      <th></th>\n",
       "      <th>A</th>\n",
       "      <th>B</th>\n",
       "      <th>C</th>\n",
       "      <th>D</th>\n",
       "    </tr>\n",
       "  </thead>\n",
       "  <tbody>\n",
       "    <tr>\n",
       "      <th>2021-09-28</th>\n",
       "      <td>1.296194</td>\n",
       "      <td>0.593464</td>\n",
       "      <td>-0.534440</td>\n",
       "      <td>-0.409959</td>\n",
       "    </tr>\n",
       "    <tr>\n",
       "      <th>2021-09-29</th>\n",
       "      <td>-1.491104</td>\n",
       "      <td>-0.434138</td>\n",
       "      <td>-0.854868</td>\n",
       "      <td>0.136571</td>\n",
       "    </tr>\n",
       "    <tr>\n",
       "      <th>2021-09-30</th>\n",
       "      <td>-0.049610</td>\n",
       "      <td>0.787340</td>\n",
       "      <td>0.698990</td>\n",
       "      <td>-0.040902</td>\n",
       "    </tr>\n",
       "    <tr>\n",
       "      <th>2021-10-01</th>\n",
       "      <td>1.138374</td>\n",
       "      <td>-0.225020</td>\n",
       "      <td>-0.432230</td>\n",
       "      <td>0.793667</td>\n",
       "    </tr>\n",
       "    <tr>\n",
       "      <th>2021-10-02</th>\n",
       "      <td>0.066698</td>\n",
       "      <td>-0.386431</td>\n",
       "      <td>0.574115</td>\n",
       "      <td>-0.872801</td>\n",
       "    </tr>\n",
       "    <tr>\n",
       "      <th>2021-10-03</th>\n",
       "      <td>-0.869831</td>\n",
       "      <td>2.075139</td>\n",
       "      <td>-0.327897</td>\n",
       "      <td>-1.649215</td>\n",
       "    </tr>\n",
       "    <tr>\n",
       "      <th>2021-10-04</th>\n",
       "      <td>0.552108</td>\n",
       "      <td>-0.576175</td>\n",
       "      <td>1.400574</td>\n",
       "      <td>-1.322480</td>\n",
       "    </tr>\n",
       "    <tr>\n",
       "      <th>2021-10-05</th>\n",
       "      <td>0.084900</td>\n",
       "      <td>0.844143</td>\n",
       "      <td>-0.296796</td>\n",
       "      <td>1.429875</td>\n",
       "    </tr>\n",
       "    <tr>\n",
       "      <th>2021-10-06</th>\n",
       "      <td>0.606376</td>\n",
       "      <td>-0.770122</td>\n",
       "      <td>0.860709</td>\n",
       "      <td>0.269288</td>\n",
       "    </tr>\n",
       "    <tr>\n",
       "      <th>2021-10-07</th>\n",
       "      <td>1.100345</td>\n",
       "      <td>-0.615119</td>\n",
       "      <td>-0.402243</td>\n",
       "      <td>-0.631559</td>\n",
       "    </tr>\n",
       "  </tbody>\n",
       "</table>\n",
       "</div>"
      ],
      "text/plain": [
       "                   A         B         C         D\n",
       "2021-09-28  1.296194  0.593464 -0.534440 -0.409959\n",
       "2021-09-29 -1.491104 -0.434138 -0.854868  0.136571\n",
       "2021-09-30 -0.049610  0.787340  0.698990 -0.040902\n",
       "2021-10-01  1.138374 -0.225020 -0.432230  0.793667\n",
       "2021-10-02  0.066698 -0.386431  0.574115 -0.872801\n",
       "2021-10-03 -0.869831  2.075139 -0.327897 -1.649215\n",
       "2021-10-04  0.552108 -0.576175  1.400574 -1.322480\n",
       "2021-10-05  0.084900  0.844143 -0.296796  1.429875\n",
       "2021-10-06  0.606376 -0.770122  0.860709  0.269288\n",
       "2021-10-07  1.100345 -0.615119 -0.402243 -0.631559"
      ]
     },
     "execution_count": 10,
     "metadata": {},
     "output_type": "execute_result"
    }
   ],
   "source": [
    "df[df[\"B\"]<3]"
   ]
  },
  {
   "cell_type": "code",
   "execution_count": 11,
   "id": "ee015578",
   "metadata": {},
   "outputs": [
    {
     "data": {
      "text/html": [
       "<div>\n",
       "<style scoped>\n",
       "    .dataframe tbody tr th:only-of-type {\n",
       "        vertical-align: middle;\n",
       "    }\n",
       "\n",
       "    .dataframe tbody tr th {\n",
       "        vertical-align: top;\n",
       "    }\n",
       "\n",
       "    .dataframe thead th {\n",
       "        text-align: right;\n",
       "    }\n",
       "</style>\n",
       "<table border=\"1\" class=\"dataframe\">\n",
       "  <thead>\n",
       "    <tr style=\"text-align: right;\">\n",
       "      <th></th>\n",
       "      <th>A</th>\n",
       "      <th>B</th>\n",
       "      <th>C</th>\n",
       "      <th>D</th>\n",
       "      <th>E</th>\n",
       "    </tr>\n",
       "  </thead>\n",
       "  <tbody>\n",
       "    <tr>\n",
       "      <th>2021-09-28</th>\n",
       "      <td>1.296194</td>\n",
       "      <td>0.593464</td>\n",
       "      <td>-0.534440</td>\n",
       "      <td>-0.409959</td>\n",
       "      <td>1.0</td>\n",
       "    </tr>\n",
       "    <tr>\n",
       "      <th>2021-09-29</th>\n",
       "      <td>-1.491104</td>\n",
       "      <td>-0.434138</td>\n",
       "      <td>-0.854868</td>\n",
       "      <td>0.136571</td>\n",
       "      <td>1.0</td>\n",
       "    </tr>\n",
       "    <tr>\n",
       "      <th>2021-09-30</th>\n",
       "      <td>-0.049610</td>\n",
       "      <td>0.787340</td>\n",
       "      <td>0.698990</td>\n",
       "      <td>-0.040902</td>\n",
       "      <td>NaN</td>\n",
       "    </tr>\n",
       "    <tr>\n",
       "      <th>2021-10-01</th>\n",
       "      <td>1.138374</td>\n",
       "      <td>-0.225020</td>\n",
       "      <td>-0.432230</td>\n",
       "      <td>0.793667</td>\n",
       "      <td>NaN</td>\n",
       "    </tr>\n",
       "  </tbody>\n",
       "</table>\n",
       "</div>"
      ],
      "text/plain": [
       "                   A         B         C         D    E\n",
       "2021-09-28  1.296194  0.593464 -0.534440 -0.409959  1.0\n",
       "2021-09-29 -1.491104 -0.434138 -0.854868  0.136571  1.0\n",
       "2021-09-30 -0.049610  0.787340  0.698990 -0.040902  NaN\n",
       "2021-10-01  1.138374 -0.225020 -0.432230  0.793667  NaN"
      ]
     },
     "execution_count": 11,
     "metadata": {},
     "output_type": "execute_result"
    }
   ],
   "source": [
    "#handling the missing values\n",
    "df2=df.reindex(index=d[0:4],columns=list(df.columns)+[\"E\"])\n",
    "df2.loc[d[0]:d[1],\"E\"]=1\n",
    "df2\n"
   ]
  },
  {
   "cell_type": "code",
   "execution_count": 32,
   "id": "90044114",
   "metadata": {},
   "outputs": [
    {
     "data": {
      "text/html": [
       "<div>\n",
       "<style scoped>\n",
       "    .dataframe tbody tr th:only-of-type {\n",
       "        vertical-align: middle;\n",
       "    }\n",
       "\n",
       "    .dataframe tbody tr th {\n",
       "        vertical-align: top;\n",
       "    }\n",
       "\n",
       "    .dataframe thead th {\n",
       "        text-align: right;\n",
       "    }\n",
       "</style>\n",
       "<table border=\"1\" class=\"dataframe\">\n",
       "  <thead>\n",
       "    <tr style=\"text-align: right;\">\n",
       "      <th></th>\n",
       "      <th>A</th>\n",
       "      <th>B</th>\n",
       "      <th>C</th>\n",
       "      <th>D</th>\n",
       "      <th>E</th>\n",
       "    </tr>\n",
       "  </thead>\n",
       "  <tbody>\n",
       "    <tr>\n",
       "      <th>2021-09-28</th>\n",
       "      <td>False</td>\n",
       "      <td>False</td>\n",
       "      <td>False</td>\n",
       "      <td>False</td>\n",
       "      <td>False</td>\n",
       "    </tr>\n",
       "    <tr>\n",
       "      <th>2021-09-29</th>\n",
       "      <td>False</td>\n",
       "      <td>False</td>\n",
       "      <td>False</td>\n",
       "      <td>False</td>\n",
       "      <td>False</td>\n",
       "    </tr>\n",
       "    <tr>\n",
       "      <th>2021-09-30</th>\n",
       "      <td>False</td>\n",
       "      <td>False</td>\n",
       "      <td>False</td>\n",
       "      <td>False</td>\n",
       "      <td>True</td>\n",
       "    </tr>\n",
       "    <tr>\n",
       "      <th>2021-10-01</th>\n",
       "      <td>False</td>\n",
       "      <td>False</td>\n",
       "      <td>False</td>\n",
       "      <td>False</td>\n",
       "      <td>True</td>\n",
       "    </tr>\n",
       "  </tbody>\n",
       "</table>\n",
       "</div>"
      ],
      "text/plain": [
       "                A      B      C      D      E\n",
       "2021-09-28  False  False  False  False  False\n",
       "2021-09-29  False  False  False  False  False\n",
       "2021-09-30  False  False  False  False   True\n",
       "2021-10-01  False  False  False  False   True"
      ]
     },
     "execution_count": 32,
     "metadata": {},
     "output_type": "execute_result"
    }
   ],
   "source": [
    "#to check the null values\n",
    "df2.isnull()"
   ]
  },
  {
   "cell_type": "code",
   "execution_count": 33,
   "id": "9e9c4833",
   "metadata": {},
   "outputs": [
    {
     "data": {
      "text/html": [
       "<div>\n",
       "<style scoped>\n",
       "    .dataframe tbody tr th:only-of-type {\n",
       "        vertical-align: middle;\n",
       "    }\n",
       "\n",
       "    .dataframe tbody tr th {\n",
       "        vertical-align: top;\n",
       "    }\n",
       "\n",
       "    .dataframe thead th {\n",
       "        text-align: right;\n",
       "    }\n",
       "</style>\n",
       "<table border=\"1\" class=\"dataframe\">\n",
       "  <thead>\n",
       "    <tr style=\"text-align: right;\">\n",
       "      <th></th>\n",
       "      <th>A</th>\n",
       "      <th>B</th>\n",
       "      <th>C</th>\n",
       "      <th>D</th>\n",
       "      <th>E</th>\n",
       "    </tr>\n",
       "  </thead>\n",
       "  <tbody>\n",
       "    <tr>\n",
       "      <th>2021-09-28</th>\n",
       "      <td>0.835414</td>\n",
       "      <td>-0.855931</td>\n",
       "      <td>0.519553</td>\n",
       "      <td>0.147072</td>\n",
       "      <td>1.0</td>\n",
       "    </tr>\n",
       "    <tr>\n",
       "      <th>2021-09-29</th>\n",
       "      <td>0.194669</td>\n",
       "      <td>-0.422165</td>\n",
       "      <td>-0.079183</td>\n",
       "      <td>0.214907</td>\n",
       "      <td>1.0</td>\n",
       "    </tr>\n",
       "  </tbody>\n",
       "</table>\n",
       "</div>"
      ],
      "text/plain": [
       "                   A         B         C         D    E\n",
       "2021-09-28  0.835414 -0.855931  0.519553  0.147072  1.0\n",
       "2021-09-29  0.194669 -0.422165 -0.079183  0.214907  1.0"
      ]
     },
     "execution_count": 33,
     "metadata": {},
     "output_type": "execute_result"
    }
   ],
   "source": [
    "#to drop the column\n",
    "#it will drop the null values presented in a dataframe\n",
    "df2.dropna()"
   ]
  },
  {
   "cell_type": "code",
   "execution_count": 34,
   "id": "a70bc307",
   "metadata": {},
   "outputs": [
    {
     "data": {
      "text/html": [
       "<div>\n",
       "<style scoped>\n",
       "    .dataframe tbody tr th:only-of-type {\n",
       "        vertical-align: middle;\n",
       "    }\n",
       "\n",
       "    .dataframe tbody tr th {\n",
       "        vertical-align: top;\n",
       "    }\n",
       "\n",
       "    .dataframe thead th {\n",
       "        text-align: right;\n",
       "    }\n",
       "</style>\n",
       "<table border=\"1\" class=\"dataframe\">\n",
       "  <thead>\n",
       "    <tr style=\"text-align: right;\">\n",
       "      <th></th>\n",
       "      <th>A</th>\n",
       "      <th>B</th>\n",
       "      <th>C</th>\n",
       "      <th>D</th>\n",
       "      <th>E</th>\n",
       "    </tr>\n",
       "  </thead>\n",
       "  <tbody>\n",
       "    <tr>\n",
       "      <th>2021-09-28</th>\n",
       "      <td>0.835414</td>\n",
       "      <td>-0.855931</td>\n",
       "      <td>0.519553</td>\n",
       "      <td>0.147072</td>\n",
       "      <td>1.0</td>\n",
       "    </tr>\n",
       "    <tr>\n",
       "      <th>2021-09-29</th>\n",
       "      <td>0.194669</td>\n",
       "      <td>-0.422165</td>\n",
       "      <td>-0.079183</td>\n",
       "      <td>0.214907</td>\n",
       "      <td>1.0</td>\n",
       "    </tr>\n",
       "    <tr>\n",
       "      <th>2021-09-30</th>\n",
       "      <td>-0.636197</td>\n",
       "      <td>-0.949706</td>\n",
       "      <td>-0.123662</td>\n",
       "      <td>-0.192115</td>\n",
       "      <td>2.0</td>\n",
       "    </tr>\n",
       "    <tr>\n",
       "      <th>2021-10-01</th>\n",
       "      <td>-1.370165</td>\n",
       "      <td>-0.905206</td>\n",
       "      <td>1.228790</td>\n",
       "      <td>0.715642</td>\n",
       "      <td>2.0</td>\n",
       "    </tr>\n",
       "  </tbody>\n",
       "</table>\n",
       "</div>"
      ],
      "text/plain": [
       "                   A         B         C         D    E\n",
       "2021-09-28  0.835414 -0.855931  0.519553  0.147072  1.0\n",
       "2021-09-29  0.194669 -0.422165 -0.079183  0.214907  1.0\n",
       "2021-09-30 -0.636197 -0.949706 -0.123662 -0.192115  2.0\n",
       "2021-10-01 -1.370165 -0.905206  1.228790  0.715642  2.0"
      ]
     },
     "execution_count": 34,
     "metadata": {},
     "output_type": "execute_result"
    }
   ],
   "source": [
    "#fill the missing data\n",
    "#it will fill the missing values with2\n",
    "df2.fillna(value=2)"
   ]
  },
  {
   "cell_type": "code",
   "execution_count": 35,
   "id": "dc4bbcc2",
   "metadata": {},
   "outputs": [
    {
     "data": {
      "text/plain": [
       "A    0.098530\n",
       "B   -0.421759\n",
       "C    0.263328\n",
       "D    0.407604\n",
       "dtype: float64"
      ]
     },
     "execution_count": 35,
     "metadata": {},
     "output_type": "execute_result"
    }
   ],
   "source": [
    "#descriptive statistics \n",
    "#to find the mean\n",
    "df.mean()"
   ]
  },
  {
   "cell_type": "code",
   "execution_count": 76,
   "id": "a45f7e4f",
   "metadata": {},
   "outputs": [
    {
     "data": {
      "text/plain": [
       "0    NaN\n",
       "1    NaN\n",
       "2    NaN\n",
       "3    NaN\n",
       "E    1.0\n",
       "dtype: float64"
      ]
     },
     "execution_count": 76,
     "metadata": {},
     "output_type": "execute_result"
    }
   ],
   "source": [
    "df2.mean()"
   ]
  },
  {
   "cell_type": "code",
   "execution_count": 36,
   "id": "cbb336a3",
   "metadata": {
    "scrolled": true
   },
   "outputs": [
    {
     "data": {
      "text/plain": [
       "2021-09-28    NaN\n",
       "2021-09-29    NaN\n",
       "2021-09-30    1.0\n",
       "2021-10-01    2.0\n",
       "2021-10-02    3.0\n",
       "2021-10-03    NaN\n",
       "2021-10-04    5.0\n",
       "2021-10-05    6.0\n",
       "2021-10-06    7.0\n",
       "2021-10-07    8.0\n",
       "Freq: D, dtype: float64"
      ]
     },
     "execution_count": 36,
     "metadata": {},
     "output_type": "execute_result"
    }
   ],
   "source": [
    "s=pd.Series([1,2,3,np.nan,5,6,7,8,9,10],index=d).shift(2)\n",
    "s"
   ]
  },
  {
   "cell_type": "code",
   "execution_count": 37,
   "id": "560f4f0c",
   "metadata": {},
   "outputs": [
    {
     "data": {
      "text/html": [
       "<div>\n",
       "<style scoped>\n",
       "    .dataframe tbody tr th:only-of-type {\n",
       "        vertical-align: middle;\n",
       "    }\n",
       "\n",
       "    .dataframe tbody tr th {\n",
       "        vertical-align: top;\n",
       "    }\n",
       "\n",
       "    .dataframe thead th {\n",
       "        text-align: right;\n",
       "    }\n",
       "</style>\n",
       "<table border=\"1\" class=\"dataframe\">\n",
       "  <thead>\n",
       "    <tr style=\"text-align: right;\">\n",
       "      <th></th>\n",
       "      <th>A</th>\n",
       "      <th>B</th>\n",
       "      <th>C</th>\n",
       "      <th>D</th>\n",
       "    </tr>\n",
       "  </thead>\n",
       "  <tbody>\n",
       "    <tr>\n",
       "      <th>2021-09-28</th>\n",
       "      <td>NaN</td>\n",
       "      <td>NaN</td>\n",
       "      <td>NaN</td>\n",
       "      <td>NaN</td>\n",
       "    </tr>\n",
       "    <tr>\n",
       "      <th>2021-09-29</th>\n",
       "      <td>NaN</td>\n",
       "      <td>NaN</td>\n",
       "      <td>NaN</td>\n",
       "      <td>NaN</td>\n",
       "    </tr>\n",
       "    <tr>\n",
       "      <th>2021-09-30</th>\n",
       "      <td>-1.636197</td>\n",
       "      <td>-1.949706</td>\n",
       "      <td>-1.123662</td>\n",
       "      <td>-1.192115</td>\n",
       "    </tr>\n",
       "    <tr>\n",
       "      <th>2021-10-01</th>\n",
       "      <td>-3.370165</td>\n",
       "      <td>-2.905206</td>\n",
       "      <td>-0.771210</td>\n",
       "      <td>-1.284358</td>\n",
       "    </tr>\n",
       "    <tr>\n",
       "      <th>2021-10-02</th>\n",
       "      <td>-1.116022</td>\n",
       "      <td>-3.312378</td>\n",
       "      <td>-2.202019</td>\n",
       "      <td>-2.574128</td>\n",
       "    </tr>\n",
       "    <tr>\n",
       "      <th>2021-10-03</th>\n",
       "      <td>NaN</td>\n",
       "      <td>NaN</td>\n",
       "      <td>NaN</td>\n",
       "      <td>NaN</td>\n",
       "    </tr>\n",
       "    <tr>\n",
       "      <th>2021-10-04</th>\n",
       "      <td>-5.069030</td>\n",
       "      <td>-4.872462</td>\n",
       "      <td>-5.117697</td>\n",
       "      <td>-4.345688</td>\n",
       "    </tr>\n",
       "    <tr>\n",
       "      <th>2021-10-05</th>\n",
       "      <td>-6.502871</td>\n",
       "      <td>-5.065517</td>\n",
       "      <td>-4.211965</td>\n",
       "      <td>-4.153837</td>\n",
       "    </tr>\n",
       "    <tr>\n",
       "      <th>2021-10-06</th>\n",
       "      <td>-6.572184</td>\n",
       "      <td>-9.272611</td>\n",
       "      <td>-8.802170</td>\n",
       "      <td>-7.719454</td>\n",
       "    </tr>\n",
       "    <tr>\n",
       "      <th>2021-10-07</th>\n",
       "      <td>-8.801395</td>\n",
       "      <td>-6.859952</td>\n",
       "      <td>-7.281207</td>\n",
       "      <td>-8.465199</td>\n",
       "    </tr>\n",
       "  </tbody>\n",
       "</table>\n",
       "</div>"
      ],
      "text/plain": [
       "                   A         B         C         D\n",
       "2021-09-28       NaN       NaN       NaN       NaN\n",
       "2021-09-29       NaN       NaN       NaN       NaN\n",
       "2021-09-30 -1.636197 -1.949706 -1.123662 -1.192115\n",
       "2021-10-01 -3.370165 -2.905206 -0.771210 -1.284358\n",
       "2021-10-02 -1.116022 -3.312378 -2.202019 -2.574128\n",
       "2021-10-03       NaN       NaN       NaN       NaN\n",
       "2021-10-04 -5.069030 -4.872462 -5.117697 -4.345688\n",
       "2021-10-05 -6.502871 -5.065517 -4.211965 -4.153837\n",
       "2021-10-06 -6.572184 -9.272611 -8.802170 -7.719454\n",
       "2021-10-07 -8.801395 -6.859952 -7.281207 -8.465199"
      ]
     },
     "execution_count": 37,
     "metadata": {},
     "output_type": "execute_result"
    }
   ],
   "source": [
    "#it substract all elements of df by s\n",
    "df.sub(s,axis=\"index\")"
   ]
  },
  {
   "cell_type": "code",
   "execution_count": 38,
   "id": "bbd8b62a",
   "metadata": {},
   "outputs": [
    {
     "data": {
      "text/html": [
       "<div>\n",
       "<style scoped>\n",
       "    .dataframe tbody tr th:only-of-type {\n",
       "        vertical-align: middle;\n",
       "    }\n",
       "\n",
       "    .dataframe tbody tr th {\n",
       "        vertical-align: top;\n",
       "    }\n",
       "\n",
       "    .dataframe thead th {\n",
       "        text-align: right;\n",
       "    }\n",
       "</style>\n",
       "<table border=\"1\" class=\"dataframe\">\n",
       "  <thead>\n",
       "    <tr style=\"text-align: right;\">\n",
       "      <th></th>\n",
       "      <th>A</th>\n",
       "      <th>B</th>\n",
       "      <th>C</th>\n",
       "      <th>D</th>\n",
       "    </tr>\n",
       "  </thead>\n",
       "  <tbody>\n",
       "    <tr>\n",
       "      <th>2021-09-28</th>\n",
       "      <td>0.835414</td>\n",
       "      <td>-0.855931</td>\n",
       "      <td>0.519553</td>\n",
       "      <td>0.147072</td>\n",
       "    </tr>\n",
       "    <tr>\n",
       "      <th>2021-09-29</th>\n",
       "      <td>0.194669</td>\n",
       "      <td>-0.422165</td>\n",
       "      <td>-0.079183</td>\n",
       "      <td>0.214907</td>\n",
       "    </tr>\n",
       "    <tr>\n",
       "      <th>2021-09-30</th>\n",
       "      <td>-0.636197</td>\n",
       "      <td>-0.949706</td>\n",
       "      <td>-0.123662</td>\n",
       "      <td>-0.192115</td>\n",
       "    </tr>\n",
       "    <tr>\n",
       "      <th>2021-10-01</th>\n",
       "      <td>-1.370165</td>\n",
       "      <td>-0.905206</td>\n",
       "      <td>1.228790</td>\n",
       "      <td>0.715642</td>\n",
       "    </tr>\n",
       "    <tr>\n",
       "      <th>2021-10-02</th>\n",
       "      <td>1.883978</td>\n",
       "      <td>-0.312378</td>\n",
       "      <td>0.797981</td>\n",
       "      <td>0.425872</td>\n",
       "    </tr>\n",
       "    <tr>\n",
       "      <th>2021-10-03</th>\n",
       "      <td>1.023083</td>\n",
       "      <td>-0.701660</td>\n",
       "      <td>-0.297156</td>\n",
       "      <td>1.448846</td>\n",
       "    </tr>\n",
       "    <tr>\n",
       "      <th>2021-10-04</th>\n",
       "      <td>-0.069030</td>\n",
       "      <td>0.127538</td>\n",
       "      <td>-0.117697</td>\n",
       "      <td>0.654312</td>\n",
       "    </tr>\n",
       "    <tr>\n",
       "      <th>2021-10-05</th>\n",
       "      <td>-0.502871</td>\n",
       "      <td>0.934483</td>\n",
       "      <td>1.788035</td>\n",
       "      <td>1.846163</td>\n",
       "    </tr>\n",
       "    <tr>\n",
       "      <th>2021-10-06</th>\n",
       "      <td>0.427816</td>\n",
       "      <td>-2.272611</td>\n",
       "      <td>-1.802170</td>\n",
       "      <td>-0.719454</td>\n",
       "    </tr>\n",
       "    <tr>\n",
       "      <th>2021-10-07</th>\n",
       "      <td>-0.801395</td>\n",
       "      <td>1.140048</td>\n",
       "      <td>0.718793</td>\n",
       "      <td>-0.465199</td>\n",
       "    </tr>\n",
       "  </tbody>\n",
       "</table>\n",
       "</div>"
      ],
      "text/plain": [
       "                   A         B         C         D\n",
       "2021-09-28  0.835414 -0.855931  0.519553  0.147072\n",
       "2021-09-29  0.194669 -0.422165 -0.079183  0.214907\n",
       "2021-09-30 -0.636197 -0.949706 -0.123662 -0.192115\n",
       "2021-10-01 -1.370165 -0.905206  1.228790  0.715642\n",
       "2021-10-02  1.883978 -0.312378  0.797981  0.425872\n",
       "2021-10-03  1.023083 -0.701660 -0.297156  1.448846\n",
       "2021-10-04 -0.069030  0.127538 -0.117697  0.654312\n",
       "2021-10-05 -0.502871  0.934483  1.788035  1.846163\n",
       "2021-10-06  0.427816 -2.272611 -1.802170 -0.719454\n",
       "2021-10-07 -0.801395  1.140048  0.718793 -0.465199"
      ]
     },
     "execution_count": 38,
     "metadata": {},
     "output_type": "execute_result"
    }
   ],
   "source": [
    "df"
   ]
  },
  {
   "cell_type": "code",
   "execution_count": 39,
   "id": "14b50ee1",
   "metadata": {},
   "outputs": [
    {
     "data": {
      "text/html": [
       "<div>\n",
       "<style scoped>\n",
       "    .dataframe tbody tr th:only-of-type {\n",
       "        vertical-align: middle;\n",
       "    }\n",
       "\n",
       "    .dataframe tbody tr th {\n",
       "        vertical-align: top;\n",
       "    }\n",
       "\n",
       "    .dataframe thead th {\n",
       "        text-align: right;\n",
       "    }\n",
       "</style>\n",
       "<table border=\"1\" class=\"dataframe\">\n",
       "  <thead>\n",
       "    <tr style=\"text-align: right;\">\n",
       "      <th></th>\n",
       "      <th>A</th>\n",
       "      <th>B</th>\n",
       "      <th>C</th>\n",
       "      <th>D</th>\n",
       "    </tr>\n",
       "  </thead>\n",
       "  <tbody>\n",
       "    <tr>\n",
       "      <th>2021-09-28</th>\n",
       "      <td>0.835414</td>\n",
       "      <td>-0.855931</td>\n",
       "      <td>0.519553</td>\n",
       "      <td>0.147072</td>\n",
       "    </tr>\n",
       "    <tr>\n",
       "      <th>2021-09-29</th>\n",
       "      <td>1.030083</td>\n",
       "      <td>-1.278097</td>\n",
       "      <td>0.440370</td>\n",
       "      <td>0.361979</td>\n",
       "    </tr>\n",
       "    <tr>\n",
       "      <th>2021-09-30</th>\n",
       "      <td>0.393886</td>\n",
       "      <td>-2.227803</td>\n",
       "      <td>0.316708</td>\n",
       "      <td>0.169864</td>\n",
       "    </tr>\n",
       "    <tr>\n",
       "      <th>2021-10-01</th>\n",
       "      <td>-0.976279</td>\n",
       "      <td>-3.133008</td>\n",
       "      <td>1.545498</td>\n",
       "      <td>0.885506</td>\n",
       "    </tr>\n",
       "    <tr>\n",
       "      <th>2021-10-02</th>\n",
       "      <td>0.907699</td>\n",
       "      <td>-3.445387</td>\n",
       "      <td>2.343479</td>\n",
       "      <td>1.311378</td>\n",
       "    </tr>\n",
       "    <tr>\n",
       "      <th>2021-10-03</th>\n",
       "      <td>1.930781</td>\n",
       "      <td>-4.147046</td>\n",
       "      <td>2.046323</td>\n",
       "      <td>2.760223</td>\n",
       "    </tr>\n",
       "    <tr>\n",
       "      <th>2021-10-04</th>\n",
       "      <td>1.861752</td>\n",
       "      <td>-4.019509</td>\n",
       "      <td>1.928626</td>\n",
       "      <td>3.414535</td>\n",
       "    </tr>\n",
       "    <tr>\n",
       "      <th>2021-10-05</th>\n",
       "      <td>1.358881</td>\n",
       "      <td>-3.085026</td>\n",
       "      <td>3.716661</td>\n",
       "      <td>5.260698</td>\n",
       "    </tr>\n",
       "    <tr>\n",
       "      <th>2021-10-06</th>\n",
       "      <td>1.786696</td>\n",
       "      <td>-5.357637</td>\n",
       "      <td>1.914491</td>\n",
       "      <td>4.541244</td>\n",
       "    </tr>\n",
       "    <tr>\n",
       "      <th>2021-10-07</th>\n",
       "      <td>0.985301</td>\n",
       "      <td>-4.217589</td>\n",
       "      <td>2.633285</td>\n",
       "      <td>4.076045</td>\n",
       "    </tr>\n",
       "  </tbody>\n",
       "</table>\n",
       "</div>"
      ],
      "text/plain": [
       "                   A         B         C         D\n",
       "2021-09-28  0.835414 -0.855931  0.519553  0.147072\n",
       "2021-09-29  1.030083 -1.278097  0.440370  0.361979\n",
       "2021-09-30  0.393886 -2.227803  0.316708  0.169864\n",
       "2021-10-01 -0.976279 -3.133008  1.545498  0.885506\n",
       "2021-10-02  0.907699 -3.445387  2.343479  1.311378\n",
       "2021-10-03  1.930781 -4.147046  2.046323  2.760223\n",
       "2021-10-04  1.861752 -4.019509  1.928626  3.414535\n",
       "2021-10-05  1.358881 -3.085026  3.716661  5.260698\n",
       "2021-10-06  1.786696 -5.357637  1.914491  4.541244\n",
       "2021-10-07  0.985301 -4.217589  2.633285  4.076045"
      ]
     },
     "execution_count": 39,
     "metadata": {},
     "output_type": "execute_result"
    }
   ],
   "source": [
    "#to apply some fuctions\n",
    "#to cumsum is used  to find the cumulative sum value over any axis.\n",
    "df.apply(np.cumsum)"
   ]
  },
  {
   "cell_type": "code",
   "execution_count": 40,
   "id": "2b4a6353",
   "metadata": {},
   "outputs": [
    {
     "data": {
      "text/plain": [
       "A    3.254144\n",
       "B    3.412660\n",
       "C    3.590205\n",
       "D    2.565617\n",
       "dtype: float64"
      ]
     },
     "execution_count": 40,
     "metadata": {},
     "output_type": "execute_result"
    }
   ],
   "source": [
    "#lambda fuction will take any number of arguments but can only have one expression\n",
    "#it give the substraction of x.max and x.min\n",
    "df.apply(lambda x:x.max()-x.min())"
   ]
  },
  {
   "cell_type": "code",
   "execution_count": 41,
   "id": "47d9f9e9",
   "metadata": {},
   "outputs": [
    {
     "data": {
      "text/plain": [
       "1.0    1\n",
       "2.0    1\n",
       "3.0    1\n",
       "5.0    1\n",
       "6.0    1\n",
       "7.0    1\n",
       "8.0    1\n",
       "dtype: int64"
      ]
     },
     "execution_count": 41,
     "metadata": {},
     "output_type": "execute_result"
    }
   ],
   "source": [
    "#hisogram   histogram is a representation of distribution of data\n",
    "#the value_countss()fuction returns a series that contain counts unique values\n",
    "s.value_counts()"
   ]
  },
  {
   "cell_type": "code",
   "execution_count": 78,
   "id": "c087960f",
   "metadata": {},
   "outputs": [],
   "source": [
    "s=pd.Series([\"pandas\",\"python\",\"jupyter\",np.nan,\"java\",\"colab\"])"
   ]
  },
  {
   "cell_type": "code",
   "execution_count": 43,
   "id": "c71d1ef7",
   "metadata": {},
   "outputs": [
    {
     "data": {
      "text/plain": [
       "0     PANDAS\n",
       "1     PYTHON\n",
       "2    JUPYTER\n",
       "3        NaN\n",
       "4       JAVA\n",
       "5      COLAB\n",
       "dtype: object"
      ]
     },
     "execution_count": 43,
     "metadata": {},
     "output_type": "execute_result"
    }
   ],
   "source": [
    "#string method inside pandas\n",
    "s.str.upper()"
   ]
  },
  {
   "cell_type": "code",
   "execution_count": 44,
   "id": "cd7d5e7e",
   "metadata": {},
   "outputs": [
    {
     "data": {
      "text/html": [
       "<div>\n",
       "<style scoped>\n",
       "    .dataframe tbody tr th:only-of-type {\n",
       "        vertical-align: middle;\n",
       "    }\n",
       "\n",
       "    .dataframe tbody tr th {\n",
       "        vertical-align: top;\n",
       "    }\n",
       "\n",
       "    .dataframe thead th {\n",
       "        text-align: right;\n",
       "    }\n",
       "</style>\n",
       "<table border=\"1\" class=\"dataframe\">\n",
       "  <thead>\n",
       "    <tr style=\"text-align: right;\">\n",
       "      <th></th>\n",
       "      <th>0</th>\n",
       "      <th>1</th>\n",
       "      <th>2</th>\n",
       "      <th>3</th>\n",
       "    </tr>\n",
       "  </thead>\n",
       "  <tbody>\n",
       "    <tr>\n",
       "      <th>0</th>\n",
       "      <td>-2.310610</td>\n",
       "      <td>-1.594179</td>\n",
       "      <td>0.223225</td>\n",
       "      <td>-0.570664</td>\n",
       "    </tr>\n",
       "    <tr>\n",
       "      <th>1</th>\n",
       "      <td>-0.675650</td>\n",
       "      <td>0.072859</td>\n",
       "      <td>-0.800641</td>\n",
       "      <td>0.036096</td>\n",
       "    </tr>\n",
       "    <tr>\n",
       "      <th>2</th>\n",
       "      <td>0.943325</td>\n",
       "      <td>0.720771</td>\n",
       "      <td>0.786434</td>\n",
       "      <td>2.037988</td>\n",
       "    </tr>\n",
       "    <tr>\n",
       "      <th>3</th>\n",
       "      <td>-0.005877</td>\n",
       "      <td>-0.506760</td>\n",
       "      <td>-0.250880</td>\n",
       "      <td>-0.224644</td>\n",
       "    </tr>\n",
       "    <tr>\n",
       "      <th>4</th>\n",
       "      <td>1.421667</td>\n",
       "      <td>-1.622553</td>\n",
       "      <td>0.862409</td>\n",
       "      <td>-1.314968</td>\n",
       "    </tr>\n",
       "    <tr>\n",
       "      <th>5</th>\n",
       "      <td>-0.370305</td>\n",
       "      <td>0.462509</td>\n",
       "      <td>1.082724</td>\n",
       "      <td>2.010477</td>\n",
       "    </tr>\n",
       "    <tr>\n",
       "      <th>6</th>\n",
       "      <td>-0.474898</td>\n",
       "      <td>0.127967</td>\n",
       "      <td>-1.768725</td>\n",
       "      <td>2.211988</td>\n",
       "    </tr>\n",
       "    <tr>\n",
       "      <th>7</th>\n",
       "      <td>0.286064</td>\n",
       "      <td>-1.120801</td>\n",
       "      <td>-0.230363</td>\n",
       "      <td>-1.354633</td>\n",
       "    </tr>\n",
       "    <tr>\n",
       "      <th>8</th>\n",
       "      <td>-0.393980</td>\n",
       "      <td>-0.919882</td>\n",
       "      <td>-0.432204</td>\n",
       "      <td>-2.321947</td>\n",
       "    </tr>\n",
       "    <tr>\n",
       "      <th>9</th>\n",
       "      <td>-1.558828</td>\n",
       "      <td>0.799751</td>\n",
       "      <td>-0.842065</td>\n",
       "      <td>-0.089926</td>\n",
       "    </tr>\n",
       "  </tbody>\n",
       "</table>\n",
       "</div>"
      ],
      "text/plain": [
       "          0         1         2         3\n",
       "0 -2.310610 -1.594179  0.223225 -0.570664\n",
       "1 -0.675650  0.072859 -0.800641  0.036096\n",
       "2  0.943325  0.720771  0.786434  2.037988\n",
       "3 -0.005877 -0.506760 -0.250880 -0.224644\n",
       "4  1.421667 -1.622553  0.862409 -1.314968\n",
       "5 -0.370305  0.462509  1.082724  2.010477\n",
       "6 -0.474898  0.127967 -1.768725  2.211988\n",
       "7  0.286064 -1.120801 -0.230363 -1.354633\n",
       "8 -0.393980 -0.919882 -0.432204 -2.321947\n",
       "9 -1.558828  0.799751 -0.842065 -0.089926"
      ]
     },
     "execution_count": 44,
     "metadata": {},
     "output_type": "execute_result"
    }
   ],
   "source": [
    "\n",
    "\n",
    "df=pd.DataFrame(np.random.randn(10,4))\n",
    "df"
   ]
  },
  {
   "cell_type": "code",
   "execution_count": 45,
   "id": "d7b2f7f6",
   "metadata": {},
   "outputs": [
    {
     "data": {
      "text/plain": [
       "[          0         1         2         3\n",
       " 0 -2.310610 -1.594179  0.223225 -0.570664\n",
       " 1 -0.675650  0.072859 -0.800641  0.036096\n",
       " 2  0.943325  0.720771  0.786434  2.037988,\n",
       "           0         1         2         3\n",
       " 3 -0.005877 -0.506760 -0.250880 -0.224644\n",
       " 4  1.421667 -1.622553  0.862409 -1.314968\n",
       " 5 -0.370305  0.462509  1.082724  2.010477\n",
       " 6 -0.474898  0.127967 -1.768725  2.211988,\n",
       "           0         1         2         3\n",
       " 7  0.286064 -1.120801 -0.230363 -1.354633\n",
       " 8 -0.393980 -0.919882 -0.432204 -2.321947\n",
       " 9 -1.558828  0.799751 -0.842065 -0.089926]"
      ]
     },
     "execution_count": 45,
     "metadata": {},
     "output_type": "execute_result"
    }
   ],
   "source": [
    "#break the dataframe\n",
    "\n",
    "df2=[df[:3],df[3:7],df[7:]]\n",
    "df2"
   ]
  },
  {
   "cell_type": "code",
   "execution_count": 46,
   "id": "77d49c40",
   "metadata": {},
   "outputs": [
    {
     "data": {
      "text/html": [
       "<div>\n",
       "<style scoped>\n",
       "    .dataframe tbody tr th:only-of-type {\n",
       "        vertical-align: middle;\n",
       "    }\n",
       "\n",
       "    .dataframe tbody tr th {\n",
       "        vertical-align: top;\n",
       "    }\n",
       "\n",
       "    .dataframe thead th {\n",
       "        text-align: right;\n",
       "    }\n",
       "</style>\n",
       "<table border=\"1\" class=\"dataframe\">\n",
       "  <thead>\n",
       "    <tr style=\"text-align: right;\">\n",
       "      <th></th>\n",
       "      <th>0</th>\n",
       "      <th>1</th>\n",
       "      <th>2</th>\n",
       "      <th>3</th>\n",
       "    </tr>\n",
       "  </thead>\n",
       "  <tbody>\n",
       "    <tr>\n",
       "      <th>0</th>\n",
       "      <td>-2.310610</td>\n",
       "      <td>-1.594179</td>\n",
       "      <td>0.223225</td>\n",
       "      <td>-0.570664</td>\n",
       "    </tr>\n",
       "    <tr>\n",
       "      <th>1</th>\n",
       "      <td>-0.675650</td>\n",
       "      <td>0.072859</td>\n",
       "      <td>-0.800641</td>\n",
       "      <td>0.036096</td>\n",
       "    </tr>\n",
       "    <tr>\n",
       "      <th>2</th>\n",
       "      <td>0.943325</td>\n",
       "      <td>0.720771</td>\n",
       "      <td>0.786434</td>\n",
       "      <td>2.037988</td>\n",
       "    </tr>\n",
       "    <tr>\n",
       "      <th>3</th>\n",
       "      <td>-0.005877</td>\n",
       "      <td>-0.506760</td>\n",
       "      <td>-0.250880</td>\n",
       "      <td>-0.224644</td>\n",
       "    </tr>\n",
       "    <tr>\n",
       "      <th>4</th>\n",
       "      <td>1.421667</td>\n",
       "      <td>-1.622553</td>\n",
       "      <td>0.862409</td>\n",
       "      <td>-1.314968</td>\n",
       "    </tr>\n",
       "    <tr>\n",
       "      <th>5</th>\n",
       "      <td>-0.370305</td>\n",
       "      <td>0.462509</td>\n",
       "      <td>1.082724</td>\n",
       "      <td>2.010477</td>\n",
       "    </tr>\n",
       "    <tr>\n",
       "      <th>6</th>\n",
       "      <td>-0.474898</td>\n",
       "      <td>0.127967</td>\n",
       "      <td>-1.768725</td>\n",
       "      <td>2.211988</td>\n",
       "    </tr>\n",
       "    <tr>\n",
       "      <th>7</th>\n",
       "      <td>0.286064</td>\n",
       "      <td>-1.120801</td>\n",
       "      <td>-0.230363</td>\n",
       "      <td>-1.354633</td>\n",
       "    </tr>\n",
       "    <tr>\n",
       "      <th>8</th>\n",
       "      <td>-0.393980</td>\n",
       "      <td>-0.919882</td>\n",
       "      <td>-0.432204</td>\n",
       "      <td>-2.321947</td>\n",
       "    </tr>\n",
       "    <tr>\n",
       "      <th>9</th>\n",
       "      <td>-1.558828</td>\n",
       "      <td>0.799751</td>\n",
       "      <td>-0.842065</td>\n",
       "      <td>-0.089926</td>\n",
       "    </tr>\n",
       "  </tbody>\n",
       "</table>\n",
       "</div>"
      ],
      "text/plain": [
       "          0         1         2         3\n",
       "0 -2.310610 -1.594179  0.223225 -0.570664\n",
       "1 -0.675650  0.072859 -0.800641  0.036096\n",
       "2  0.943325  0.720771  0.786434  2.037988\n",
       "3 -0.005877 -0.506760 -0.250880 -0.224644\n",
       "4  1.421667 -1.622553  0.862409 -1.314968\n",
       "5 -0.370305  0.462509  1.082724  2.010477\n",
       "6 -0.474898  0.127967 -1.768725  2.211988\n",
       "7  0.286064 -1.120801 -0.230363 -1.354633\n",
       "8 -0.393980 -0.919882 -0.432204 -2.321947\n",
       "9 -1.558828  0.799751 -0.842065 -0.089926"
      ]
     },
     "execution_count": 46,
     "metadata": {},
     "output_type": "execute_result"
    }
   ],
   "source": [
    "#concate the several pieces\n",
    "pd.concat(df2)"
   ]
  },
  {
   "cell_type": "code",
   "execution_count": 47,
   "id": "d0b3564f",
   "metadata": {},
   "outputs": [],
   "source": [
    "#left joining\n",
    "#left =pd.DataFrame({\"A\":[1,2],\"B\":[3,4]})"
   ]
  },
  {
   "cell_type": "code",
   "execution_count": 48,
   "id": "e367ea6c",
   "metadata": {},
   "outputs": [],
   "source": [
    "#RIGHT JOINING\n",
    "#right=pd.dataframe({\"A\":[3,2],\"D\":[4,5]})\n",
    "#LEFT\n",
    "#RIGHT\n",
    "#pd.merge(left,right,on=\"A\")"
   ]
  },
  {
   "cell_type": "code",
   "execution_count": 49,
   "id": "6dec9bfe",
   "metadata": {},
   "outputs": [
    {
     "data": {
      "text/html": [
       "<div>\n",
       "<style scoped>\n",
       "    .dataframe tbody tr th:only-of-type {\n",
       "        vertical-align: middle;\n",
       "    }\n",
       "\n",
       "    .dataframe tbody tr th {\n",
       "        vertical-align: top;\n",
       "    }\n",
       "\n",
       "    .dataframe thead th {\n",
       "        text-align: right;\n",
       "    }\n",
       "</style>\n",
       "<table border=\"1\" class=\"dataframe\">\n",
       "  <thead>\n",
       "    <tr style=\"text-align: right;\">\n",
       "      <th></th>\n",
       "      <th>0</th>\n",
       "      <th>1</th>\n",
       "      <th>2</th>\n",
       "      <th>3</th>\n",
       "    </tr>\n",
       "  </thead>\n",
       "  <tbody>\n",
       "    <tr>\n",
       "      <th>0</th>\n",
       "      <td>-2.310610</td>\n",
       "      <td>-1.594179</td>\n",
       "      <td>0.223225</td>\n",
       "      <td>-0.570664</td>\n",
       "    </tr>\n",
       "    <tr>\n",
       "      <th>1</th>\n",
       "      <td>-0.675650</td>\n",
       "      <td>0.072859</td>\n",
       "      <td>-0.800641</td>\n",
       "      <td>0.036096</td>\n",
       "    </tr>\n",
       "    <tr>\n",
       "      <th>2</th>\n",
       "      <td>0.943325</td>\n",
       "      <td>0.720771</td>\n",
       "      <td>0.786434</td>\n",
       "      <td>2.037988</td>\n",
       "    </tr>\n",
       "    <tr>\n",
       "      <th>3</th>\n",
       "      <td>-0.005877</td>\n",
       "      <td>-0.506760</td>\n",
       "      <td>-0.250880</td>\n",
       "      <td>-0.224644</td>\n",
       "    </tr>\n",
       "    <tr>\n",
       "      <th>4</th>\n",
       "      <td>1.421667</td>\n",
       "      <td>-1.622553</td>\n",
       "      <td>0.862409</td>\n",
       "      <td>-1.314968</td>\n",
       "    </tr>\n",
       "    <tr>\n",
       "      <th>5</th>\n",
       "      <td>-0.370305</td>\n",
       "      <td>0.462509</td>\n",
       "      <td>1.082724</td>\n",
       "      <td>2.010477</td>\n",
       "    </tr>\n",
       "    <tr>\n",
       "      <th>6</th>\n",
       "      <td>-0.474898</td>\n",
       "      <td>0.127967</td>\n",
       "      <td>-1.768725</td>\n",
       "      <td>2.211988</td>\n",
       "    </tr>\n",
       "    <tr>\n",
       "      <th>7</th>\n",
       "      <td>0.286064</td>\n",
       "      <td>-1.120801</td>\n",
       "      <td>-0.230363</td>\n",
       "      <td>-1.354633</td>\n",
       "    </tr>\n",
       "    <tr>\n",
       "      <th>8</th>\n",
       "      <td>-0.393980</td>\n",
       "      <td>-0.919882</td>\n",
       "      <td>-0.432204</td>\n",
       "      <td>-2.321947</td>\n",
       "    </tr>\n",
       "    <tr>\n",
       "      <th>9</th>\n",
       "      <td>-1.558828</td>\n",
       "      <td>0.799751</td>\n",
       "      <td>-0.842065</td>\n",
       "      <td>-0.089926</td>\n",
       "    </tr>\n",
       "  </tbody>\n",
       "</table>\n",
       "</div>"
      ],
      "text/plain": [
       "          0         1         2         3\n",
       "0 -2.310610 -1.594179  0.223225 -0.570664\n",
       "1 -0.675650  0.072859 -0.800641  0.036096\n",
       "2  0.943325  0.720771  0.786434  2.037988\n",
       "3 -0.005877 -0.506760 -0.250880 -0.224644\n",
       "4  1.421667 -1.622553  0.862409 -1.314968\n",
       "5 -0.370305  0.462509  1.082724  2.010477\n",
       "6 -0.474898  0.127967 -1.768725  2.211988\n",
       "7  0.286064 -1.120801 -0.230363 -1.354633\n",
       "8 -0.393980 -0.919882 -0.432204 -2.321947\n",
       "9 -1.558828  0.799751 -0.842065 -0.089926"
      ]
     },
     "execution_count": 49,
     "metadata": {},
     "output_type": "execute_result"
    }
   ],
   "source": [
    "df"
   ]
  },
  {
   "cell_type": "code",
   "execution_count": 50,
   "id": "bcb4f3da",
   "metadata": {
    "scrolled": true
   },
   "outputs": [
    {
     "data": {
      "text/html": [
       "<div>\n",
       "<style scoped>\n",
       "    .dataframe tbody tr th:only-of-type {\n",
       "        vertical-align: middle;\n",
       "    }\n",
       "\n",
       "    .dataframe tbody tr th {\n",
       "        vertical-align: top;\n",
       "    }\n",
       "\n",
       "    .dataframe thead th {\n",
       "        text-align: right;\n",
       "    }\n",
       "</style>\n",
       "<table border=\"1\" class=\"dataframe\">\n",
       "  <thead>\n",
       "    <tr style=\"text-align: right;\">\n",
       "      <th></th>\n",
       "      <th>0</th>\n",
       "      <th>1</th>\n",
       "      <th>3</th>\n",
       "    </tr>\n",
       "    <tr>\n",
       "      <th>2</th>\n",
       "      <th></th>\n",
       "      <th></th>\n",
       "      <th></th>\n",
       "    </tr>\n",
       "  </thead>\n",
       "  <tbody>\n",
       "    <tr>\n",
       "      <th>-1.768725</th>\n",
       "      <td>-0.474898</td>\n",
       "      <td>0.127967</td>\n",
       "      <td>2.211988</td>\n",
       "    </tr>\n",
       "    <tr>\n",
       "      <th>-0.842065</th>\n",
       "      <td>-1.558828</td>\n",
       "      <td>0.799751</td>\n",
       "      <td>-0.089926</td>\n",
       "    </tr>\n",
       "    <tr>\n",
       "      <th>-0.800641</th>\n",
       "      <td>-0.675650</td>\n",
       "      <td>0.072859</td>\n",
       "      <td>0.036096</td>\n",
       "    </tr>\n",
       "    <tr>\n",
       "      <th>-0.432204</th>\n",
       "      <td>-0.393980</td>\n",
       "      <td>-0.919882</td>\n",
       "      <td>-2.321947</td>\n",
       "    </tr>\n",
       "    <tr>\n",
       "      <th>-0.250880</th>\n",
       "      <td>-0.005877</td>\n",
       "      <td>-0.506760</td>\n",
       "      <td>-0.224644</td>\n",
       "    </tr>\n",
       "    <tr>\n",
       "      <th>-0.230363</th>\n",
       "      <td>0.286064</td>\n",
       "      <td>-1.120801</td>\n",
       "      <td>-1.354633</td>\n",
       "    </tr>\n",
       "    <tr>\n",
       "      <th>0.223225</th>\n",
       "      <td>-2.310610</td>\n",
       "      <td>-1.594179</td>\n",
       "      <td>-0.570664</td>\n",
       "    </tr>\n",
       "    <tr>\n",
       "      <th>0.786434</th>\n",
       "      <td>0.943325</td>\n",
       "      <td>0.720771</td>\n",
       "      <td>2.037988</td>\n",
       "    </tr>\n",
       "    <tr>\n",
       "      <th>0.862409</th>\n",
       "      <td>1.421667</td>\n",
       "      <td>-1.622553</td>\n",
       "      <td>-1.314968</td>\n",
       "    </tr>\n",
       "    <tr>\n",
       "      <th>1.082724</th>\n",
       "      <td>-0.370305</td>\n",
       "      <td>0.462509</td>\n",
       "      <td>2.010477</td>\n",
       "    </tr>\n",
       "  </tbody>\n",
       "</table>\n",
       "</div>"
      ],
      "text/plain": [
       "                  0         1         3\n",
       "2                                      \n",
       "-1.768725 -0.474898  0.127967  2.211988\n",
       "-0.842065 -1.558828  0.799751 -0.089926\n",
       "-0.800641 -0.675650  0.072859  0.036096\n",
       "-0.432204 -0.393980 -0.919882 -2.321947\n",
       "-0.250880 -0.005877 -0.506760 -0.224644\n",
       "-0.230363  0.286064 -1.120801 -1.354633\n",
       " 0.223225 -2.310610 -1.594179 -0.570664\n",
       " 0.786434  0.943325  0.720771  2.037988\n",
       " 0.862409  1.421667 -1.622553 -1.314968\n",
       " 1.082724 -0.370305  0.462509  2.010477"
      ]
     },
     "execution_count": 50,
     "metadata": {},
     "output_type": "execute_result"
    }
   ],
   "source": [
    "#,3grouping\n",
    "df.groupby([2]).sum()"
   ]
  },
  {
   "cell_type": "code",
   "execution_count": 83,
   "id": "7b9dff29",
   "metadata": {},
   "outputs": [
    {
     "data": {
      "text/html": [
       "<div>\n",
       "<style scoped>\n",
       "    .dataframe tbody tr th:only-of-type {\n",
       "        vertical-align: middle;\n",
       "    }\n",
       "\n",
       "    .dataframe tbody tr th {\n",
       "        vertical-align: top;\n",
       "    }\n",
       "\n",
       "    .dataframe thead th {\n",
       "        text-align: right;\n",
       "    }\n",
       "</style>\n",
       "<table border=\"1\" class=\"dataframe\">\n",
       "  <thead>\n",
       "    <tr style=\"text-align: right;\">\n",
       "      <th></th>\n",
       "      <th>1</th>\n",
       "      <th>2</th>\n",
       "      <th>3</th>\n",
       "    </tr>\n",
       "    <tr>\n",
       "      <th>0</th>\n",
       "      <th></th>\n",
       "      <th></th>\n",
       "      <th></th>\n",
       "    </tr>\n",
       "  </thead>\n",
       "  <tbody>\n",
       "    <tr>\n",
       "      <th>-2.310610</th>\n",
       "      <td>-1.594179</td>\n",
       "      <td>0.223225</td>\n",
       "      <td>-0.570664</td>\n",
       "    </tr>\n",
       "    <tr>\n",
       "      <th>-1.558828</th>\n",
       "      <td>0.799751</td>\n",
       "      <td>-0.842065</td>\n",
       "      <td>-0.089926</td>\n",
       "    </tr>\n",
       "    <tr>\n",
       "      <th>-0.675650</th>\n",
       "      <td>0.072859</td>\n",
       "      <td>-0.800641</td>\n",
       "      <td>0.036096</td>\n",
       "    </tr>\n",
       "    <tr>\n",
       "      <th>-0.474898</th>\n",
       "      <td>0.127967</td>\n",
       "      <td>-1.768725</td>\n",
       "      <td>2.211988</td>\n",
       "    </tr>\n",
       "    <tr>\n",
       "      <th>-0.393980</th>\n",
       "      <td>-0.919882</td>\n",
       "      <td>-0.432204</td>\n",
       "      <td>-2.321947</td>\n",
       "    </tr>\n",
       "    <tr>\n",
       "      <th>-0.370305</th>\n",
       "      <td>0.462509</td>\n",
       "      <td>1.082724</td>\n",
       "      <td>2.010477</td>\n",
       "    </tr>\n",
       "    <tr>\n",
       "      <th>-0.005877</th>\n",
       "      <td>-0.506760</td>\n",
       "      <td>-0.250880</td>\n",
       "      <td>-0.224644</td>\n",
       "    </tr>\n",
       "    <tr>\n",
       "      <th>0.286064</th>\n",
       "      <td>-1.120801</td>\n",
       "      <td>-0.230363</td>\n",
       "      <td>-1.354633</td>\n",
       "    </tr>\n",
       "    <tr>\n",
       "      <th>0.943325</th>\n",
       "      <td>0.720771</td>\n",
       "      <td>0.786434</td>\n",
       "      <td>2.037988</td>\n",
       "    </tr>\n",
       "    <tr>\n",
       "      <th>1.421667</th>\n",
       "      <td>-1.622553</td>\n",
       "      <td>0.862409</td>\n",
       "      <td>-1.314968</td>\n",
       "    </tr>\n",
       "  </tbody>\n",
       "</table>\n",
       "</div>"
      ],
      "text/plain": [
       "                  1         2         3\n",
       "0                                      \n",
       "-2.310610 -1.594179  0.223225 -0.570664\n",
       "-1.558828  0.799751 -0.842065 -0.089926\n",
       "-0.675650  0.072859 -0.800641  0.036096\n",
       "-0.474898  0.127967 -1.768725  2.211988\n",
       "-0.393980 -0.919882 -0.432204 -2.321947\n",
       "-0.370305  0.462509  1.082724  2.010477\n",
       "-0.005877 -0.506760 -0.250880 -0.224644\n",
       " 0.286064 -1.120801 -0.230363 -1.354633\n",
       " 0.943325  0.720771  0.786434  2.037988\n",
       " 1.421667 -1.622553  0.862409 -1.314968"
      ]
     },
     "execution_count": 83,
     "metadata": {},
     "output_type": "execute_result"
    }
   ],
   "source": [
    "#3 grouping\n",
    "df.groupby([0]).sum()"
   ]
  },
  {
   "cell_type": "code",
   "execution_count": 51,
   "id": "8259fc24",
   "metadata": {},
   "outputs": [],
   "source": [
    "#reshape the dataframework\n",
    "#my_tuple=list(zip(*[[1,2,3,4,5,17,18,19],[11,12,13,6,7,8,9,10]]))\n",
    "#index=pd.multiindex.from _tuples(my_tuple,names=[\"first\",\"second])\n",
    "#df=pd.Dataframe(np.random.randn(8,2),index=index,columnd=[\"A\",\"B])\n",
    "#df2=df[:2]\n",
    "#df2"
   ]
  },
  {
   "cell_type": "code",
   "execution_count": 52,
   "id": "c29dd5da",
   "metadata": {},
   "outputs": [],
   "source": [
    "#df2.stack()"
   ]
  },
  {
   "cell_type": "code",
   "execution_count": 53,
   "id": "d3316f4d",
   "metadata": {},
   "outputs": [],
   "source": [
    "##stack has a multiindex as indexes\n",
    "##inverse stack is unstack "
   ]
  },
  {
   "cell_type": "code",
   "execution_count": 54,
   "id": "3a938fc1",
   "metadata": {},
   "outputs": [],
   "source": [
    "#df2.unstack "
   ]
  },
  {
   "cell_type": "code",
   "execution_count": 55,
   "id": "a4a72def",
   "metadata": {},
   "outputs": [],
   "source": [
    "##pivote table\n",
    "#df=pd.DataFrame ({\"A\":['a','b','c','d']*3,\n",
    "#                  \"B\":[\"A\",\"B\",\"C\"]*4\n",
    "#                  \"C\":['P','P',\"P\",\"Q\",\"Q\",\"Q\"]*2,\n",
    "#                  \"D\":np.random.randn(12),\n",
    "#                  \"E\":np.random.randn(12)})"
   ]
  },
  {
   "cell_type": "code",
   "execution_count": 56,
   "id": "9ce6024a",
   "metadata": {},
   "outputs": [],
   "source": [
    "#pd.pivot_table(df,values=\"D\",index=[\"A\",\"B\"],columns=[\"C\"])"
   ]
  },
  {
   "cell_type": "code",
   "execution_count": 57,
   "id": "59ff4a7f",
   "metadata": {},
   "outputs": [],
   "source": [
    "#dates=pd.date_range(\"30/09/2021 00:00\",periods=5,freq=\"s\")\n",
    "#dates"
   ]
  },
  {
   "cell_type": "code",
   "execution_count": 58,
   "id": "5cf7e8ab",
   "metadata": {},
   "outputs": [],
   "source": [
    "#ts=pd.Series(np.random.randint(len(dates)),dates)"
   ]
  },
  {
   "cell_type": "code",
   "execution_count": 59,
   "id": "86920f4b",
   "metadata": {},
   "outputs": [],
   "source": [
    "#ts"
   ]
  },
  {
   "cell_type": "code",
   "execution_count": 60,
   "id": "1d23a33d",
   "metadata": {},
   "outputs": [],
   "source": [
    "#ts_utc=ts_localize(\"UTC\")"
   ]
  },
  {
   "cell_type": "code",
   "execution_count": 61,
   "id": "9d02c754",
   "metadata": {},
   "outputs": [],
   "source": [
    "#ts.utc"
   ]
  },
  {
   "cell_type": "code",
   "execution_count": 62,
   "id": "731af34e",
   "metadata": {},
   "outputs": [],
   "source": [
    "#ts_utc=ts.tz__CONVERT(\"US/Eastern\")"
   ]
  },
  {
   "cell_type": "code",
   "execution_count": 63,
   "id": "ae3f120a",
   "metadata": {},
   "outputs": [],
   "source": [
    "#dates=pd.date_range(\"30/09/2021\",periods=5,freq=\"M\")"
   ]
  },
  {
   "cell_type": "code",
   "execution_count": 64,
   "id": "b4236f71",
   "metadata": {},
   "outputs": [],
   "source": [
    "#ts=pd.series (np.random.randint(len(dates)),dates)\n",
    "#ts"
   ]
  },
  {
   "cell_type": "code",
   "execution_count": 65,
   "id": "ece22f80",
   "metadata": {},
   "outputs": [],
   "source": [
    "#ps=ts.to_period()"
   ]
  },
  {
   "cell_type": "code",
   "execution_count": 66,
   "id": "89b8cfbd",
   "metadata": {},
   "outputs": [],
   "source": [
    "#ps"
   ]
  },
  {
   "cell_type": "code",
   "execution_count": 67,
   "id": "eca10b67",
   "metadata": {},
   "outputs": [],
   "source": [
    "#ps.to_timestamp()\n"
   ]
  },
  {
   "cell_type": "code",
   "execution_count": 68,
   "id": "d5487dc1",
   "metadata": {},
   "outputs": [],
   "source": [
    "#df=pd.DataFrame({\"id\":[1,2,3,4,5,6]\n",
    "#               \"grade\":[\"a\",\"b\",\"c\",\"a\",\"e\"]})"
   ]
  },
  {
   "cell_type": "code",
   "execution_count": 69,
   "id": "8d0c9940",
   "metadata": {},
   "outputs": [],
   "source": [
    "\n",
    "#df"
   ]
  },
  {
   "cell_type": "code",
   "execution_count": 70,
   "id": "21fb9d64",
   "metadata": {},
   "outputs": [],
   "source": [
    "#df[\"Grade\"]=df[\"grade\"].astype(\"category\")"
   ]
  },
  {
   "cell_type": "code",
   "execution_count": 71,
   "id": "3fc4c261",
   "metadata": {},
   "outputs": [],
   "source": [
    "#df[\"Grade\"]"
   ]
  },
  {
   "cell_type": "code",
   "execution_count": 72,
   "id": "1ca89804",
   "metadata": {},
   "outputs": [],
   "source": [
    "#df[\"Grade\"].cat.catogaries=[\"good\",\"verygood\",\"verybad\",\"excellent\"]"
   ]
  },
  {
   "cell_type": "code",
   "execution_count": 73,
   "id": "ff522656",
   "metadata": {},
   "outputs": [],
   "source": [
    "#df[\"Grade\"]=df[\"Grade\"].cat.set_catogaries([\"very good\",\"bad\",\"very bad\",\"good\",\"mediam\"])\n",
    "#df[\"Grade\"]"
   ]
  },
  {
   "cell_type": "code",
   "execution_count": null,
   "id": "16dc0bb0",
   "metadata": {},
   "outputs": [],
   "source": []
  },
  {
   "cell_type": "code",
   "execution_count": null,
   "id": "a814580d",
   "metadata": {},
   "outputs": [],
   "source": []
  }
 ],
 "metadata": {
  "kernelspec": {
   "display_name": "Python 3 (ipykernel)",
   "language": "python",
   "name": "python3"
  },
  "language_info": {
   "codemirror_mode": {
    "name": "ipython",
    "version": 3
   },
   "file_extension": ".py",
   "mimetype": "text/x-python",
   "name": "python",
   "nbconvert_exporter": "python",
   "pygments_lexer": "ipython3",
   "version": "3.9.12"
  }
 },
 "nbformat": 4,
 "nbformat_minor": 5
}
